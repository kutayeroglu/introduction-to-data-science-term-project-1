{
 "cells": [
  {
   "cell_type": "markdown",
   "metadata": {},
   "source": [
    "<h1 style=\"text-align: center;\">ENGR350</h1>\n",
    "<h1 style=\"text-align: center;\">Introduction Data Science with Python Term - Project</h1>\n",
    "<h3 style=\"text-align: center;\"><strong>Hotel Booking ML Models and Predictions</strong></h3>\n",
    "<h2 style=\"text-align: center;\">Banu Yobaş</h2>\n",
    "<h3 style=\"text-align: center;\">Fırat Tamur - Kutay Eroğlu</h3>\n",
    "<h3 style=\"text-align: center;\">May 21, 2020</h3>"
   ]
  },
  {
   "cell_type": "code",
   "execution_count": 31,
   "metadata": {},
   "outputs": [],
   "source": [
    "# importing data libraries\n",
    "\n",
    "import numpy as np\n",
    "import pandas as pd\n",
    "\n",
    "# importing visualization libraries\n",
    "\n",
    "import matplotlib.pyplot as plt\n",
    "import seaborn as sns\n",
    "%matplotlib inline"
   ]
  },
  {
   "cell_type": "code",
   "execution_count": 32,
   "metadata": {},
   "outputs": [],
   "source": [
    "# importing models from sklearn and tensorflow.keras\n",
    "\n",
    "# sklearn classification algorithms\n",
    "from sklearn.ensemble import RandomForestClassifier, GradientBoostingClassifier\n",
    "from sklearn.discriminant_analysis import LinearDiscriminantAnalysis\n",
    "from sklearn.linear_model import LogisticRegression\n",
    "from sklearn.neighbors import KNeighborsClassifier\n",
    "from sklearn.tree import DecisionTreeClassifier\n",
    "from sklearn.svm import SVC\n",
    "from sklearn.model_selection import cross_val_score, StratifiedKFold\n",
    "from sklearn.metrics import confusion_matrix\n",
    "\n",
    "# tensorflow.keras Sequential model\n",
    "from tensorflow.keras import Sequential\n",
    "from tensorflow.keras.layers import Dense\n",
    "from tensorflow.keras.backend import clear_session\n"
   ]
  },
  {
   "cell_type": "markdown",
   "metadata": {},
   "source": [
    "### Read Data:"
   ]
  },
  {
   "cell_type": "code",
   "execution_count": 33,
   "metadata": {},
   "outputs": [],
   "source": [
    "data = pd.read_csv('../Data/hotel_bookings_cleaned-2.csv')"
   ]
  },
  {
   "cell_type": "code",
   "execution_count": 34,
   "metadata": {},
   "outputs": [
    {
     "data": {
      "text/plain": [
       "(118894, 269)"
      ]
     },
     "execution_count": 34,
     "metadata": {},
     "output_type": "execute_result"
    }
   ],
   "source": [
    "data.shape"
   ]
  },
  {
   "cell_type": "code",
   "execution_count": 35,
   "metadata": {},
   "outputs": [
    {
     "name": "stdout",
     "output_type": "stream",
     "text": [
      "<class 'pandas.core.frame.DataFrame'>\n",
      "RangeIndex: 118894 entries, 0 to 118893\n",
      "Columns: 269 entries, is_canceled to customer_type_Transient-Party\n",
      "dtypes: float64(4), int64(265)\n",
      "memory usage: 244.0 MB\n"
     ]
    }
   ],
   "source": [
    "data.info()"
   ]
  },
  {
   "cell_type": "code",
   "execution_count": 36,
   "metadata": {},
   "outputs": [
    {
     "data": {
      "text/plain": [
       "Index([], dtype='object')"
      ]
     },
     "execution_count": 36,
     "metadata": {},
     "output_type": "execute_result"
    }
   ],
   "source": [
    "data.columns[data.isnull().any()]"
   ]
  },
  {
   "cell_type": "code",
   "execution_count": 37,
   "metadata": {},
   "outputs": [
    {
     "data": {
      "text/plain": [
       "False"
      ]
     },
     "execution_count": 37,
     "metadata": {},
     "output_type": "execute_result"
    }
   ],
   "source": [
    "data.isnull().values.any()"
   ]
  },
  {
   "cell_type": "code",
   "execution_count": 38,
   "metadata": {},
   "outputs": [
    {
     "data": {
      "text/html": [
       "<div>\n",
       "<style scoped>\n",
       "    .dataframe tbody tr th:only-of-type {\n",
       "        vertical-align: middle;\n",
       "    }\n",
       "\n",
       "    .dataframe tbody tr th {\n",
       "        vertical-align: top;\n",
       "    }\n",
       "\n",
       "    .dataframe thead th {\n",
       "        text-align: right;\n",
       "    }\n",
       "</style>\n",
       "<table border=\"1\" class=\"dataframe\">\n",
       "  <thead>\n",
       "    <tr style=\"text-align: right;\">\n",
       "      <th></th>\n",
       "      <th>is_canceled</th>\n",
       "      <th>lead_time</th>\n",
       "      <th>arrival_date_week_number</th>\n",
       "      <th>stays_in_weekend_nights</th>\n",
       "      <th>stays_in_week_nights</th>\n",
       "      <th>adults</th>\n",
       "      <th>children</th>\n",
       "      <th>babies</th>\n",
       "      <th>is_repeated_guest</th>\n",
       "      <th>booking_changes</th>\n",
       "      <th>...</th>\n",
       "      <th>assigned_room_type_K</th>\n",
       "      <th>assigned_room_type_L</th>\n",
       "      <th>assigned_room_type_P</th>\n",
       "      <th>deposit_type_No Deposit</th>\n",
       "      <th>deposit_type_Non Refund</th>\n",
       "      <th>deposit_type_Refundable</th>\n",
       "      <th>customer_type_Contract</th>\n",
       "      <th>customer_type_Group</th>\n",
       "      <th>customer_type_Transient</th>\n",
       "      <th>customer_type_Transient-Party</th>\n",
       "    </tr>\n",
       "  </thead>\n",
       "  <tbody>\n",
       "    <tr>\n",
       "      <th>count</th>\n",
       "      <td>118894.000000</td>\n",
       "      <td>118894.000000</td>\n",
       "      <td>118894.000000</td>\n",
       "      <td>118894.000000</td>\n",
       "      <td>118894.000000</td>\n",
       "      <td>118894.000000</td>\n",
       "      <td>118894.000000</td>\n",
       "      <td>118894.000000</td>\n",
       "      <td>118894.000000</td>\n",
       "      <td>118894.000000</td>\n",
       "      <td>...</td>\n",
       "      <td>118894.000000</td>\n",
       "      <td>118894.000000</td>\n",
       "      <td>118894.000000</td>\n",
       "      <td>118894.000000</td>\n",
       "      <td>118894.000000</td>\n",
       "      <td>118894.000000</td>\n",
       "      <td>118894.000000</td>\n",
       "      <td>118894.000000</td>\n",
       "      <td>118894.000000</td>\n",
       "      <td>118894.000000</td>\n",
       "    </tr>\n",
       "    <tr>\n",
       "      <th>mean</th>\n",
       "      <td>0.371348</td>\n",
       "      <td>104.313784</td>\n",
       "      <td>27.166737</td>\n",
       "      <td>0.928878</td>\n",
       "      <td>2.502111</td>\n",
       "      <td>1.855745</td>\n",
       "      <td>0.104126</td>\n",
       "      <td>0.007788</td>\n",
       "      <td>0.032012</td>\n",
       "      <td>0.221147</td>\n",
       "      <td>...</td>\n",
       "      <td>0.002347</td>\n",
       "      <td>0.000008</td>\n",
       "      <td>0.000017</td>\n",
       "      <td>0.876074</td>\n",
       "      <td>0.122563</td>\n",
       "      <td>0.001363</td>\n",
       "      <td>0.034274</td>\n",
       "      <td>0.004794</td>\n",
       "      <td>0.750013</td>\n",
       "      <td>0.210919</td>\n",
       "    </tr>\n",
       "    <tr>\n",
       "      <th>std</th>\n",
       "      <td>0.483167</td>\n",
       "      <td>106.904302</td>\n",
       "      <td>13.589887</td>\n",
       "      <td>0.996181</td>\n",
       "      <td>1.900065</td>\n",
       "      <td>0.488923</td>\n",
       "      <td>0.398146</td>\n",
       "      <td>0.089238</td>\n",
       "      <td>0.176032</td>\n",
       "      <td>0.652764</td>\n",
       "      <td>...</td>\n",
       "      <td>0.048385</td>\n",
       "      <td>0.002900</td>\n",
       "      <td>0.004101</td>\n",
       "      <td>0.329498</td>\n",
       "      <td>0.327936</td>\n",
       "      <td>0.036888</td>\n",
       "      <td>0.181933</td>\n",
       "      <td>0.069074</td>\n",
       "      <td>0.433007</td>\n",
       "      <td>0.407963</td>\n",
       "    </tr>\n",
       "    <tr>\n",
       "      <th>min</th>\n",
       "      <td>0.000000</td>\n",
       "      <td>0.000000</td>\n",
       "      <td>1.000000</td>\n",
       "      <td>0.000000</td>\n",
       "      <td>0.000000</td>\n",
       "      <td>0.000000</td>\n",
       "      <td>0.000000</td>\n",
       "      <td>0.000000</td>\n",
       "      <td>0.000000</td>\n",
       "      <td>0.000000</td>\n",
       "      <td>...</td>\n",
       "      <td>0.000000</td>\n",
       "      <td>0.000000</td>\n",
       "      <td>0.000000</td>\n",
       "      <td>0.000000</td>\n",
       "      <td>0.000000</td>\n",
       "      <td>0.000000</td>\n",
       "      <td>0.000000</td>\n",
       "      <td>0.000000</td>\n",
       "      <td>0.000000</td>\n",
       "      <td>0.000000</td>\n",
       "    </tr>\n",
       "    <tr>\n",
       "      <th>25%</th>\n",
       "      <td>0.000000</td>\n",
       "      <td>18.000000</td>\n",
       "      <td>16.000000</td>\n",
       "      <td>0.000000</td>\n",
       "      <td>1.000000</td>\n",
       "      <td>2.000000</td>\n",
       "      <td>0.000000</td>\n",
       "      <td>0.000000</td>\n",
       "      <td>0.000000</td>\n",
       "      <td>0.000000</td>\n",
       "      <td>...</td>\n",
       "      <td>0.000000</td>\n",
       "      <td>0.000000</td>\n",
       "      <td>0.000000</td>\n",
       "      <td>1.000000</td>\n",
       "      <td>0.000000</td>\n",
       "      <td>0.000000</td>\n",
       "      <td>0.000000</td>\n",
       "      <td>0.000000</td>\n",
       "      <td>1.000000</td>\n",
       "      <td>0.000000</td>\n",
       "    </tr>\n",
       "    <tr>\n",
       "      <th>50%</th>\n",
       "      <td>0.000000</td>\n",
       "      <td>69.000000</td>\n",
       "      <td>28.000000</td>\n",
       "      <td>1.000000</td>\n",
       "      <td>2.000000</td>\n",
       "      <td>2.000000</td>\n",
       "      <td>0.000000</td>\n",
       "      <td>0.000000</td>\n",
       "      <td>0.000000</td>\n",
       "      <td>0.000000</td>\n",
       "      <td>...</td>\n",
       "      <td>0.000000</td>\n",
       "      <td>0.000000</td>\n",
       "      <td>0.000000</td>\n",
       "      <td>1.000000</td>\n",
       "      <td>0.000000</td>\n",
       "      <td>0.000000</td>\n",
       "      <td>0.000000</td>\n",
       "      <td>0.000000</td>\n",
       "      <td>1.000000</td>\n",
       "      <td>0.000000</td>\n",
       "    </tr>\n",
       "    <tr>\n",
       "      <th>75%</th>\n",
       "      <td>1.000000</td>\n",
       "      <td>161.000000</td>\n",
       "      <td>38.000000</td>\n",
       "      <td>2.000000</td>\n",
       "      <td>3.000000</td>\n",
       "      <td>2.000000</td>\n",
       "      <td>0.000000</td>\n",
       "      <td>0.000000</td>\n",
       "      <td>0.000000</td>\n",
       "      <td>0.000000</td>\n",
       "      <td>...</td>\n",
       "      <td>0.000000</td>\n",
       "      <td>0.000000</td>\n",
       "      <td>0.000000</td>\n",
       "      <td>1.000000</td>\n",
       "      <td>0.000000</td>\n",
       "      <td>0.000000</td>\n",
       "      <td>0.000000</td>\n",
       "      <td>0.000000</td>\n",
       "      <td>1.000000</td>\n",
       "      <td>0.000000</td>\n",
       "    </tr>\n",
       "    <tr>\n",
       "      <th>max</th>\n",
       "      <td>1.000000</td>\n",
       "      <td>737.000000</td>\n",
       "      <td>53.000000</td>\n",
       "      <td>16.000000</td>\n",
       "      <td>41.000000</td>\n",
       "      <td>5.000000</td>\n",
       "      <td>3.000000</td>\n",
       "      <td>2.000000</td>\n",
       "      <td>1.000000</td>\n",
       "      <td>21.000000</td>\n",
       "      <td>...</td>\n",
       "      <td>1.000000</td>\n",
       "      <td>1.000000</td>\n",
       "      <td>1.000000</td>\n",
       "      <td>1.000000</td>\n",
       "      <td>1.000000</td>\n",
       "      <td>1.000000</td>\n",
       "      <td>1.000000</td>\n",
       "      <td>1.000000</td>\n",
       "      <td>1.000000</td>\n",
       "      <td>1.000000</td>\n",
       "    </tr>\n",
       "  </tbody>\n",
       "</table>\n",
       "<p>8 rows × 269 columns</p>\n",
       "</div>"
      ],
      "text/plain": [
       "         is_canceled      lead_time  arrival_date_week_number  \\\n",
       "count  118894.000000  118894.000000             118894.000000   \n",
       "mean        0.371348     104.313784                 27.166737   \n",
       "std         0.483167     106.904302                 13.589887   \n",
       "min         0.000000       0.000000                  1.000000   \n",
       "25%         0.000000      18.000000                 16.000000   \n",
       "50%         0.000000      69.000000                 28.000000   \n",
       "75%         1.000000     161.000000                 38.000000   \n",
       "max         1.000000     737.000000                 53.000000   \n",
       "\n",
       "       stays_in_weekend_nights  stays_in_week_nights         adults  \\\n",
       "count            118894.000000         118894.000000  118894.000000   \n",
       "mean                  0.928878              2.502111       1.855745   \n",
       "std                   0.996181              1.900065       0.488923   \n",
       "min                   0.000000              0.000000       0.000000   \n",
       "25%                   0.000000              1.000000       2.000000   \n",
       "50%                   1.000000              2.000000       2.000000   \n",
       "75%                   2.000000              3.000000       2.000000   \n",
       "max                  16.000000             41.000000       5.000000   \n",
       "\n",
       "            children         babies  is_repeated_guest  booking_changes  ...  \\\n",
       "count  118894.000000  118894.000000      118894.000000    118894.000000  ...   \n",
       "mean        0.104126       0.007788           0.032012         0.221147  ...   \n",
       "std         0.398146       0.089238           0.176032         0.652764  ...   \n",
       "min         0.000000       0.000000           0.000000         0.000000  ...   \n",
       "25%         0.000000       0.000000           0.000000         0.000000  ...   \n",
       "50%         0.000000       0.000000           0.000000         0.000000  ...   \n",
       "75%         0.000000       0.000000           0.000000         0.000000  ...   \n",
       "max         3.000000       2.000000           1.000000        21.000000  ...   \n",
       "\n",
       "       assigned_room_type_K  assigned_room_type_L  assigned_room_type_P  \\\n",
       "count         118894.000000         118894.000000         118894.000000   \n",
       "mean               0.002347              0.000008              0.000017   \n",
       "std                0.048385              0.002900              0.004101   \n",
       "min                0.000000              0.000000              0.000000   \n",
       "25%                0.000000              0.000000              0.000000   \n",
       "50%                0.000000              0.000000              0.000000   \n",
       "75%                0.000000              0.000000              0.000000   \n",
       "max                1.000000              1.000000              1.000000   \n",
       "\n",
       "       deposit_type_No Deposit  deposit_type_Non Refund  \\\n",
       "count            118894.000000            118894.000000   \n",
       "mean                  0.876074                 0.122563   \n",
       "std                   0.329498                 0.327936   \n",
       "min                   0.000000                 0.000000   \n",
       "25%                   1.000000                 0.000000   \n",
       "50%                   1.000000                 0.000000   \n",
       "75%                   1.000000                 0.000000   \n",
       "max                   1.000000                 1.000000   \n",
       "\n",
       "       deposit_type_Refundable  customer_type_Contract  customer_type_Group  \\\n",
       "count            118894.000000           118894.000000        118894.000000   \n",
       "mean                  0.001363                0.034274             0.004794   \n",
       "std                   0.036888                0.181933             0.069074   \n",
       "min                   0.000000                0.000000             0.000000   \n",
       "25%                   0.000000                0.000000             0.000000   \n",
       "50%                   0.000000                0.000000             0.000000   \n",
       "75%                   0.000000                0.000000             0.000000   \n",
       "max                   1.000000                1.000000             1.000000   \n",
       "\n",
       "       customer_type_Transient  customer_type_Transient-Party  \n",
       "count            118894.000000                  118894.000000  \n",
       "mean                  0.750013                       0.210919  \n",
       "std                   0.433007                       0.407963  \n",
       "min                   0.000000                       0.000000  \n",
       "25%                   1.000000                       0.000000  \n",
       "50%                   1.000000                       0.000000  \n",
       "75%                   1.000000                       0.000000  \n",
       "max                   1.000000                       1.000000  \n",
       "\n",
       "[8 rows x 269 columns]"
      ]
     },
     "execution_count": 38,
     "metadata": {},
     "output_type": "execute_result"
    }
   ],
   "source": [
    "data.describe()\n",
    "\n",
    "# we have different range of values.\n",
    "# most of our columns consist dummy variables "
   ]
  },
  {
   "cell_type": "code",
   "execution_count": 39,
   "metadata": {},
   "outputs": [],
   "source": [
    "X = data.drop(['is_canceled'], axis=1).values\n",
    "y = data['is_canceled'].values"
   ]
  },
  {
   "cell_type": "code",
   "execution_count": 40,
   "metadata": {},
   "outputs": [
    {
     "data": {
      "text/plain": [
       "((118894, 268), (118894,))"
      ]
     },
     "execution_count": 40,
     "metadata": {},
     "output_type": "execute_result"
    }
   ],
   "source": [
    "X.shape, y.shape"
   ]
  },
  {
   "cell_type": "code",
   "execution_count": 55,
   "metadata": {},
   "outputs": [],
   "source": [
    "train_data_length = 10000"
   ]
  },
  {
   "cell_type": "code",
   "execution_count": 56,
   "metadata": {},
   "outputs": [],
   "source": [
    "from sklearn.model_selection import train_test_split\n",
    "\n",
    "X_train, X_test, y_train, y_test = train_test_split(X[:train_data_length], y[:train_data_length], test_size=0.1)"
   ]
  },
  {
   "cell_type": "code",
   "execution_count": 57,
   "metadata": {},
   "outputs": [
    {
     "data": {
      "text/plain": [
       "((9000, 268), (1000, 268), (9000,), (1000,))"
      ]
     },
     "execution_count": 57,
     "metadata": {},
     "output_type": "execute_result"
    }
   ],
   "source": [
    "X_train.shape, X_test.shape, y_train.shape, y_test.shape"
   ]
  },
  {
   "cell_type": "markdown",
   "metadata": {},
   "source": [
    "### Standardize Data:"
   ]
  },
  {
   "cell_type": "code",
   "execution_count": 58,
   "metadata": {},
   "outputs": [],
   "source": [
    "from sklearn.preprocessing import StandardScaler\n",
    "\n",
    "std = StandardScaler()\n",
    "\n",
    "X_train = std.fit_transform(X_train)\n",
    "X_test = std.transform(X_test)"
   ]
  },
  {
   "cell_type": "code",
   "execution_count": 59,
   "metadata": {},
   "outputs": [
    {
     "data": {
      "text/html": [
       "<div>\n",
       "<style scoped>\n",
       "    .dataframe tbody tr th:only-of-type {\n",
       "        vertical-align: middle;\n",
       "    }\n",
       "\n",
       "    .dataframe tbody tr th {\n",
       "        vertical-align: top;\n",
       "    }\n",
       "\n",
       "    .dataframe thead th {\n",
       "        text-align: right;\n",
       "    }\n",
       "</style>\n",
       "<table border=\"1\" class=\"dataframe\">\n",
       "  <thead>\n",
       "    <tr style=\"text-align: right;\">\n",
       "      <th></th>\n",
       "      <th>0</th>\n",
       "      <th>1</th>\n",
       "      <th>2</th>\n",
       "      <th>3</th>\n",
       "      <th>4</th>\n",
       "      <th>5</th>\n",
       "      <th>6</th>\n",
       "      <th>7</th>\n",
       "      <th>8</th>\n",
       "      <th>9</th>\n",
       "      <th>...</th>\n",
       "      <th>258</th>\n",
       "      <th>259</th>\n",
       "      <th>260</th>\n",
       "      <th>261</th>\n",
       "      <th>262</th>\n",
       "      <th>263</th>\n",
       "      <th>264</th>\n",
       "      <th>265</th>\n",
       "      <th>266</th>\n",
       "      <th>267</th>\n",
       "    </tr>\n",
       "  </thead>\n",
       "  <tbody>\n",
       "    <tr>\n",
       "      <th>count</th>\n",
       "      <td>9.000000e+03</td>\n",
       "      <td>9.000000e+03</td>\n",
       "      <td>9.000000e+03</td>\n",
       "      <td>9.000000e+03</td>\n",
       "      <td>9.000000e+03</td>\n",
       "      <td>9.000000e+03</td>\n",
       "      <td>9.000000e+03</td>\n",
       "      <td>9.000000e+03</td>\n",
       "      <td>9.000000e+03</td>\n",
       "      <td>9.000000e+03</td>\n",
       "      <td>...</td>\n",
       "      <td>9.000000e+03</td>\n",
       "      <td>9000.0</td>\n",
       "      <td>9000.0</td>\n",
       "      <td>9.000000e+03</td>\n",
       "      <td>9.000000e+03</td>\n",
       "      <td>9.000000e+03</td>\n",
       "      <td>9.000000e+03</td>\n",
       "      <td>9.000000e+03</td>\n",
       "      <td>9.000000e+03</td>\n",
       "      <td>9.000000e+03</td>\n",
       "    </tr>\n",
       "    <tr>\n",
       "      <th>mean</th>\n",
       "      <td>-4.060949e-17</td>\n",
       "      <td>8.881784e-17</td>\n",
       "      <td>-3.947460e-19</td>\n",
       "      <td>-3.513239e-17</td>\n",
       "      <td>2.021099e-16</td>\n",
       "      <td>1.026340e-17</td>\n",
       "      <td>4.500104e-17</td>\n",
       "      <td>3.157968e-18</td>\n",
       "      <td>1.657933e-17</td>\n",
       "      <td>-2.585586e-17</td>\n",
       "      <td>...</td>\n",
       "      <td>-3.947460e-18</td>\n",
       "      <td>0.0</td>\n",
       "      <td>0.0</td>\n",
       "      <td>-6.315935e-18</td>\n",
       "      <td>7.105427e-18</td>\n",
       "      <td>-2.013204e-17</td>\n",
       "      <td>-4.855375e-17</td>\n",
       "      <td>-1.776357e-17</td>\n",
       "      <td>-6.335673e-17</td>\n",
       "      <td>-7.105427e-17</td>\n",
       "    </tr>\n",
       "    <tr>\n",
       "      <th>std</th>\n",
       "      <td>1.000056e+00</td>\n",
       "      <td>1.000056e+00</td>\n",
       "      <td>1.000056e+00</td>\n",
       "      <td>1.000056e+00</td>\n",
       "      <td>1.000056e+00</td>\n",
       "      <td>1.000056e+00</td>\n",
       "      <td>1.000056e+00</td>\n",
       "      <td>1.000056e+00</td>\n",
       "      <td>1.000056e+00</td>\n",
       "      <td>1.000056e+00</td>\n",
       "      <td>...</td>\n",
       "      <td>1.000056e+00</td>\n",
       "      <td>0.0</td>\n",
       "      <td>0.0</td>\n",
       "      <td>1.000056e+00</td>\n",
       "      <td>1.000056e+00</td>\n",
       "      <td>1.000056e+00</td>\n",
       "      <td>1.000056e+00</td>\n",
       "      <td>1.000056e+00</td>\n",
       "      <td>1.000056e+00</td>\n",
       "      <td>1.000056e+00</td>\n",
       "    </tr>\n",
       "    <tr>\n",
       "      <th>min</th>\n",
       "      <td>-9.621939e-01</td>\n",
       "      <td>-1.917454e+00</td>\n",
       "      <td>-9.183378e-01</td>\n",
       "      <td>-1.288635e+00</td>\n",
       "      <td>-3.803700e+00</td>\n",
       "      <td>-2.595558e-01</td>\n",
       "      <td>-8.983573e-02</td>\n",
       "      <td>-1.788624e-01</td>\n",
       "      <td>-3.260878e-01</td>\n",
       "      <td>-1.333860e-01</td>\n",
       "      <td>...</td>\n",
       "      <td>-4.350245e-02</td>\n",
       "      <td>0.0</td>\n",
       "      <td>0.0</td>\n",
       "      <td>-2.672975e+00</td>\n",
       "      <td>-3.704392e-01</td>\n",
       "      <td>-4.599541e-02</td>\n",
       "      <td>-1.926274e-01</td>\n",
       "      <td>-6.425015e-02</td>\n",
       "      <td>-1.702290e+00</td>\n",
       "      <td>-5.259237e-01</td>\n",
       "    </tr>\n",
       "    <tr>\n",
       "      <th>25%</th>\n",
       "      <td>-7.959124e-01</td>\n",
       "      <td>-8.198984e-01</td>\n",
       "      <td>-9.183378e-01</td>\n",
       "      <td>-7.768208e-01</td>\n",
       "      <td>2.914373e-01</td>\n",
       "      <td>-2.595558e-01</td>\n",
       "      <td>-8.983573e-02</td>\n",
       "      <td>-1.788624e-01</td>\n",
       "      <td>-3.260878e-01</td>\n",
       "      <td>-1.333860e-01</td>\n",
       "      <td>...</td>\n",
       "      <td>-4.350245e-02</td>\n",
       "      <td>0.0</td>\n",
       "      <td>0.0</td>\n",
       "      <td>3.741150e-01</td>\n",
       "      <td>-3.704392e-01</td>\n",
       "      <td>-4.599541e-02</td>\n",
       "      <td>-1.926274e-01</td>\n",
       "      <td>-6.425015e-02</td>\n",
       "      <td>-1.702290e+00</td>\n",
       "      <td>-5.259237e-01</td>\n",
       "    </tr>\n",
       "    <tr>\n",
       "      <th>50%</th>\n",
       "      <td>-3.340194e-01</td>\n",
       "      <td>-1.502432e-02</td>\n",
       "      <td>7.362574e-02</td>\n",
       "      <td>-2.650062e-01</td>\n",
       "      <td>2.914373e-01</td>\n",
       "      <td>-2.595558e-01</td>\n",
       "      <td>-8.983573e-02</td>\n",
       "      <td>-1.788624e-01</td>\n",
       "      <td>-3.260878e-01</td>\n",
       "      <td>-1.333860e-01</td>\n",
       "      <td>...</td>\n",
       "      <td>-4.350245e-02</td>\n",
       "      <td>0.0</td>\n",
       "      <td>0.0</td>\n",
       "      <td>3.741150e-01</td>\n",
       "      <td>-3.704392e-01</td>\n",
       "      <td>-4.599541e-02</td>\n",
       "      <td>-1.926274e-01</td>\n",
       "      <td>-6.425015e-02</td>\n",
       "      <td>5.874440e-01</td>\n",
       "      <td>-5.259237e-01</td>\n",
       "    </tr>\n",
       "    <tr>\n",
       "      <th>75%</th>\n",
       "      <td>5.251015e-01</td>\n",
       "      <td>7.898498e-01</td>\n",
       "      <td>1.065589e+00</td>\n",
       "      <td>2.468084e-01</td>\n",
       "      <td>2.914373e-01</td>\n",
       "      <td>-2.595558e-01</td>\n",
       "      <td>-8.983573e-02</td>\n",
       "      <td>-1.788624e-01</td>\n",
       "      <td>-3.260878e-01</td>\n",
       "      <td>-1.333860e-01</td>\n",
       "      <td>...</td>\n",
       "      <td>-4.350245e-02</td>\n",
       "      <td>0.0</td>\n",
       "      <td>0.0</td>\n",
       "      <td>3.741150e-01</td>\n",
       "      <td>-3.704392e-01</td>\n",
       "      <td>-4.599541e-02</td>\n",
       "      <td>-1.926274e-01</td>\n",
       "      <td>-6.425015e-02</td>\n",
       "      <td>5.874440e-01</td>\n",
       "      <td>-5.259237e-01</td>\n",
       "    </tr>\n",
       "    <tr>\n",
       "      <th>max</th>\n",
       "      <td>5.587449e+00</td>\n",
       "      <td>1.887405e+00</td>\n",
       "      <td>1.197719e+01</td>\n",
       "      <td>1.406580e+01</td>\n",
       "      <td>6.434144e+00</td>\n",
       "      <td>7.357843e+00</td>\n",
       "      <td>2.176210e+01</td>\n",
       "      <td>5.590891e+00</td>\n",
       "      <td>2.665360e+01</td>\n",
       "      <td>2.182720e+01</td>\n",
       "      <td>...</td>\n",
       "      <td>2.298721e+01</td>\n",
       "      <td>0.0</td>\n",
       "      <td>0.0</td>\n",
       "      <td>3.741150e-01</td>\n",
       "      <td>2.699499e+00</td>\n",
       "      <td>2.174130e+01</td>\n",
       "      <td>5.191369e+00</td>\n",
       "      <td>1.556417e+01</td>\n",
       "      <td>5.874440e-01</td>\n",
       "      <td>1.901416e+00</td>\n",
       "    </tr>\n",
       "  </tbody>\n",
       "</table>\n",
       "<p>8 rows × 268 columns</p>\n",
       "</div>"
      ],
      "text/plain": [
       "                0             1             2             3             4    \\\n",
       "count  9.000000e+03  9.000000e+03  9.000000e+03  9.000000e+03  9.000000e+03   \n",
       "mean  -4.060949e-17  8.881784e-17 -3.947460e-19 -3.513239e-17  2.021099e-16   \n",
       "std    1.000056e+00  1.000056e+00  1.000056e+00  1.000056e+00  1.000056e+00   \n",
       "min   -9.621939e-01 -1.917454e+00 -9.183378e-01 -1.288635e+00 -3.803700e+00   \n",
       "25%   -7.959124e-01 -8.198984e-01 -9.183378e-01 -7.768208e-01  2.914373e-01   \n",
       "50%   -3.340194e-01 -1.502432e-02  7.362574e-02 -2.650062e-01  2.914373e-01   \n",
       "75%    5.251015e-01  7.898498e-01  1.065589e+00  2.468084e-01  2.914373e-01   \n",
       "max    5.587449e+00  1.887405e+00  1.197719e+01  1.406580e+01  6.434144e+00   \n",
       "\n",
       "                5             6             7             8             9    \\\n",
       "count  9.000000e+03  9.000000e+03  9.000000e+03  9.000000e+03  9.000000e+03   \n",
       "mean   1.026340e-17  4.500104e-17  3.157968e-18  1.657933e-17 -2.585586e-17   \n",
       "std    1.000056e+00  1.000056e+00  1.000056e+00  1.000056e+00  1.000056e+00   \n",
       "min   -2.595558e-01 -8.983573e-02 -1.788624e-01 -3.260878e-01 -1.333860e-01   \n",
       "25%   -2.595558e-01 -8.983573e-02 -1.788624e-01 -3.260878e-01 -1.333860e-01   \n",
       "50%   -2.595558e-01 -8.983573e-02 -1.788624e-01 -3.260878e-01 -1.333860e-01   \n",
       "75%   -2.595558e-01 -8.983573e-02 -1.788624e-01 -3.260878e-01 -1.333860e-01   \n",
       "max    7.357843e+00  2.176210e+01  5.590891e+00  2.665360e+01  2.182720e+01   \n",
       "\n",
       "       ...           258     259     260           261           262  \\\n",
       "count  ...  9.000000e+03  9000.0  9000.0  9.000000e+03  9.000000e+03   \n",
       "mean   ... -3.947460e-18     0.0     0.0 -6.315935e-18  7.105427e-18   \n",
       "std    ...  1.000056e+00     0.0     0.0  1.000056e+00  1.000056e+00   \n",
       "min    ... -4.350245e-02     0.0     0.0 -2.672975e+00 -3.704392e-01   \n",
       "25%    ... -4.350245e-02     0.0     0.0  3.741150e-01 -3.704392e-01   \n",
       "50%    ... -4.350245e-02     0.0     0.0  3.741150e-01 -3.704392e-01   \n",
       "75%    ... -4.350245e-02     0.0     0.0  3.741150e-01 -3.704392e-01   \n",
       "max    ...  2.298721e+01     0.0     0.0  3.741150e-01  2.699499e+00   \n",
       "\n",
       "                263           264           265           266           267  \n",
       "count  9.000000e+03  9.000000e+03  9.000000e+03  9.000000e+03  9.000000e+03  \n",
       "mean  -2.013204e-17 -4.855375e-17 -1.776357e-17 -6.335673e-17 -7.105427e-17  \n",
       "std    1.000056e+00  1.000056e+00  1.000056e+00  1.000056e+00  1.000056e+00  \n",
       "min   -4.599541e-02 -1.926274e-01 -6.425015e-02 -1.702290e+00 -5.259237e-01  \n",
       "25%   -4.599541e-02 -1.926274e-01 -6.425015e-02 -1.702290e+00 -5.259237e-01  \n",
       "50%   -4.599541e-02 -1.926274e-01 -6.425015e-02  5.874440e-01 -5.259237e-01  \n",
       "75%   -4.599541e-02 -1.926274e-01 -6.425015e-02  5.874440e-01 -5.259237e-01  \n",
       "max    2.174130e+01  5.191369e+00  1.556417e+01  5.874440e-01  1.901416e+00  \n",
       "\n",
       "[8 rows x 268 columns]"
      ]
     },
     "execution_count": 59,
     "metadata": {},
     "output_type": "execute_result"
    }
   ],
   "source": [
    "pd.DataFrame(X_train).describe() # result of standardization"
   ]
  },
  {
   "cell_type": "code",
   "execution_count": 60,
   "metadata": {},
   "outputs": [],
   "source": [
    "# PCA Dimension Reduction\n",
    "\n",
    "# from sklearn.decomposition import PCA\n",
    "\n",
    "# pca = PCA(n_components = 0.95)\n",
    "\n",
    "# X_train = pca.fit_transform(X_train)\n",
    "# X_test = pca.transform(X_test)\n"
   ]
  },
  {
   "cell_type": "code",
   "execution_count": 61,
   "metadata": {},
   "outputs": [
    {
     "data": {
      "text/plain": [
       "((9000, 268), (1000, 268))"
      ]
     },
     "execution_count": 61,
     "metadata": {},
     "output_type": "execute_result"
    }
   ],
   "source": [
    "X_train.shape, X_test.shape"
   ]
  },
  {
   "cell_type": "markdown",
   "metadata": {},
   "source": [
    "### Create Models and Fit with KFold"
   ]
  },
  {
   "cell_type": "code",
   "execution_count": 62,
   "metadata": {},
   "outputs": [
    {
     "data": {
      "application/vnd.jupyter.widget-view+json": {
       "model_id": "0ae30afa1ac341cc854d254908f9b85e",
       "version_major": 2,
       "version_minor": 0
      },
      "text/plain": [
       "HBox(children=(FloatProgress(value=0.0, max=2.0), HTML(value='')))"
      ]
     },
     "metadata": {},
     "output_type": "display_data"
    },
    {
     "name": "stderr",
     "output_type": "stream",
     "text": [
      "[Parallel(n_jobs=-1)]: Using backend LokyBackend with 4 concurrent workers.\n",
      "[Parallel(n_jobs=-1)]: Done  10 out of  10 | elapsed:   53.1s finished\n",
      "[Parallel(n_jobs=-1)]: Using backend LokyBackend with 4 concurrent workers.\n"
     ]
    },
    {
     "name": "stdout",
     "output_type": "stream",
     "text": [
      "\n"
     ]
    },
    {
     "name": "stderr",
     "output_type": "stream",
     "text": [
      "[Parallel(n_jobs=-1)]: Done  10 out of  10 | elapsed:    2.0s finished\n"
     ]
    }
   ],
   "source": [
    "import warnings\n",
    "from tqdm.notebook import tqdm\n",
    "warnings.filterwarnings('ignore')\n",
    "\n",
    "kfold = StratifiedKFold(n_splits=10)\n",
    "\n",
    "# Modeling with different algorithms\n",
    "\n",
    "state = 42\n",
    "classifiers = list()\n",
    "\n",
    "algorithms = [\"SVC\",\"DecisionTree\", \"RandomForest\",\"GradientBoosting\", \"KNeighboors\",\"LogisticRegression\",\n",
    "              \"LinearDiscriminantAnalysis\", \"Keras\"]\n",
    "\n",
    "tree_algorithms = {\"DecisionTree\": 1, \"RandomForest\": 2, \"GradientBoosting\": 3}\n",
    "\n",
    "classifiers.append(SVC(random_state=state, kernel='rbf'))\n",
    "# classifiers.append(DecisionTreeClassifier(random_state=state))\n",
    "# classifiers.append(RandomForestClassifier(random_state=state))\n",
    "# classifiers.append(GradientBoostingClassifier(random_state=state))\n",
    "# classifiers.append(KNeighborsClassifier())\n",
    "# classifiers.append(LogisticRegression(random_state = state))\n",
    "classifiers.append(LinearDiscriminantAnalysis())\n",
    "\n",
    "cv_results = dict()\n",
    "\n",
    "for i in tqdm(range(len(classifiers))):\n",
    "    cv_results[algorithms[i]] = cross_val_score(classifiers[i], X_train, y_train, scoring='accuracy', cv = kfold, verbose=1, n_jobs=-1)\n"
   ]
  },
  {
   "cell_type": "markdown",
   "metadata": {},
   "source": [
    "### Keras Sequential Model:"
   ]
  },
  {
   "cell_type": "code",
   "execution_count": 49,
   "metadata": {},
   "outputs": [
    {
     "name": "stdout",
     "output_type": "stream",
     "text": [
      "[1.154745135307312, 0.805]\n"
     ]
    }
   ],
   "source": [
    "model = Sequential()\n",
    "\n",
    "model.add(Dense(128, input_shape=(X_train.shape[1],), activation=\"relu\"))\n",
    "model.add(Dense(256, activation=\"relu\"))\n",
    "model.add(Dense(128, activation=\"relu\"))\n",
    "model.add(Dense(1, activation='sigmoid'))\n",
    "\n",
    "model.compile(loss='binary_crossentropy', optimizer='adam', metrics=['accuracy'])\n",
    "\n",
    "model.fit(X_train, y_train, epochs=32, batch_size=128, verbose=0, validation_split=0.2)\n",
    "score = model.evaluate(X_test, y_test, verbose=0)\n",
    "\n",
    "print(score)"
   ]
  },
  {
   "cell_type": "code",
   "execution_count": 50,
   "metadata": {},
   "outputs": [],
   "source": [
    "cv_results['Keras'] = np.array([score[1]])"
   ]
  },
  {
   "cell_type": "code",
   "execution_count": 51,
   "metadata": {},
   "outputs": [],
   "source": [
    "cv_means = {}\n",
    "cv_std = {}\n",
    "\n",
    "for algorithm in cv_results.keys():\n",
    "    cv_means[algorithm] = [cv_results[algorithm].mean(), cv_results[algorithm].std()]\n",
    "\n",
    "cv_means = {k: v for k, v in sorted(cv_means.items(), key=lambda item: item[1], reverse=True)}\n",
    "cv = np.array(list(cv_means.values()))\n",
    "    \n",
    "cv_df = pd.DataFrame({\"Algorithm\": list(cv_means.keys()), \"CVMean\": cv[:, 0], \"CVStd\": cv[:, 1]})"
   ]
  },
  {
   "cell_type": "code",
   "execution_count": 52,
   "metadata": {},
   "outputs": [
    {
     "data": {
      "text/html": [
       "<div>\n",
       "<style scoped>\n",
       "    .dataframe tbody tr th:only-of-type {\n",
       "        vertical-align: middle;\n",
       "    }\n",
       "\n",
       "    .dataframe tbody tr th {\n",
       "        vertical-align: top;\n",
       "    }\n",
       "\n",
       "    .dataframe thead th {\n",
       "        text-align: right;\n",
       "    }\n",
       "</style>\n",
       "<table border=\"1\" class=\"dataframe\">\n",
       "  <thead>\n",
       "    <tr style=\"text-align: right;\">\n",
       "      <th></th>\n",
       "      <th>Algorithm</th>\n",
       "      <th>CVMean</th>\n",
       "      <th>CVStd</th>\n",
       "    </tr>\n",
       "  </thead>\n",
       "  <tbody>\n",
       "    <tr>\n",
       "      <th>0</th>\n",
       "      <td>Keras</td>\n",
       "      <td>0.805000</td>\n",
       "      <td>0.000000</td>\n",
       "    </tr>\n",
       "    <tr>\n",
       "      <th>1</th>\n",
       "      <td>SVC</td>\n",
       "      <td>0.790556</td>\n",
       "      <td>0.034161</td>\n",
       "    </tr>\n",
       "    <tr>\n",
       "      <th>2</th>\n",
       "      <td>DecisionTree</td>\n",
       "      <td>0.713889</td>\n",
       "      <td>0.074753</td>\n",
       "    </tr>\n",
       "  </tbody>\n",
       "</table>\n",
       "</div>"
      ],
      "text/plain": [
       "      Algorithm    CVMean     CVStd\n",
       "0         Keras  0.805000  0.000000\n",
       "1           SVC  0.790556  0.034161\n",
       "2  DecisionTree  0.713889  0.074753"
      ]
     },
     "execution_count": 52,
     "metadata": {},
     "output_type": "execute_result"
    }
   ],
   "source": [
    "cv_df"
   ]
  },
  {
   "cell_type": "code",
   "execution_count": 53,
   "metadata": {},
   "outputs": [
    {
     "data": {
      "image/png": "[encoded data removed]",
      "text/plain": [
       "<Figure size 1152x720 with 1 Axes>"
      ]
     },
     "metadata": {
      "needs_background": "light"
     },
     "output_type": "display_data"
    }
   ],
   "source": [
    "plt.figure(figsize=(16, 10))\n",
    "\n",
    "sns.set_color_codes(\"pastel\")\n",
    "g = sns.barplot(x='Algorithm', y='CVMean', data=cv_df, color='b')\n",
    "sns.set_color_codes(\"muted\")\n",
    "g = sns.barplot(x='Algorithm', y='CVStd', data=cv_df)\n",
    "\n",
    "g.set_xlabel(\"Mean Accuracy\")\n",
    "g = g.set_title(\"Cross validation Scores\")"
   ]
  },
  {
   "cell_type": "code",
   "execution_count": 24,
   "metadata": {},
   "outputs": [],
   "source": [
    "def plot_feature_importance(classifier, name):\n",
    "    \n",
    "    plt.figure(figsize=(16, 8))\n",
    "    \n",
    "    indices = np.argsort(classifier.feature_importances_)[::-1][:20]\n",
    "    \n",
    "    importances = classifier.feature_importances_[indices]\n",
    "    columns = data.drop(['is_canceled'], axis=1).columns[indices]\n",
    "    \n",
    "    g = sns.barplot(x=importances, y=columns)\n",
    "    \n",
    "    plt.title(name)\n",
    "    plt.show(g)"
   ]
  },
  {
   "cell_type": "code",
   "execution_count": 26,
   "metadata": {},
   "outputs": [],
   "source": [
    "# for tree in tree_algorithms.keys():\n",
    "#     classifiers[tree_algorithms[tree]].fit(X_train, y_train)\n",
    "#     plot_feature_importance( classifiers[tree_algorithms[tree]], tree)"
   ]
  },
  {
   "cell_type": "markdown",
   "metadata": {},
   "source": [
    "### Test Data:"
   ]
  },
  {
   "cell_type": "code",
   "execution_count": 27,
   "metadata": {},
   "outputs": [
    {
     "data": {
      "application/vnd.jupyter.widget-view+json": {
       "model_id": "c92d17bb651e42acbb550bd2d59cb810",
       "version_major": 2,
       "version_minor": 0
      },
      "text/plain": [
       "HBox(children=(FloatProgress(value=0.0, max=1.0), HTML(value='')))"
      ]
     },
     "metadata": {},
     "output_type": "display_data"
    },
    {
     "name": "stdout",
     "output_type": "stream",
     "text": [
      "\n"
     ]
    }
   ],
   "source": [
    "test_results = dict()\n",
    "\n",
    "for i in tqdm(range(len(classifiers))):\n",
    "    classifiers[i].fit(X_train, y_train)\n",
    "    test_results[algorithms[i]] = classifiers[i].score(X_test, y_test)\n",
    "\n",
    "test_results['Keras'] = model.evaluate(X_test, y_test, verbose=0)[1]"
   ]
  },
  {
   "cell_type": "code",
   "execution_count": 28,
   "metadata": {},
   "outputs": [],
   "source": [
    "test_scores = {}\n",
    "\n",
    "for algorithm in test_results.keys():\n",
    "    test_scores[algorithm] = test_results[algorithm]\n",
    "\n",
    "test_results = {k: v for k, v in sorted(test_scores.items(), key=lambda item: item[1], reverse=True)}\n",
    "    \n",
    "test_df = pd.DataFrame({\"Algorithm\": list(cv_means.keys()), \"TestScore\": list(test_results.values())})"
   ]
  },
  {
   "cell_type": "code",
   "execution_count": 29,
   "metadata": {},
   "outputs": [
    {
     "data": {
      "text/html": [
       "<div>\n",
       "<style scoped>\n",
       "    .dataframe tbody tr th:only-of-type {\n",
       "        vertical-align: middle;\n",
       "    }\n",
       "\n",
       "    .dataframe tbody tr th {\n",
       "        vertical-align: top;\n",
       "    }\n",
       "\n",
       "    .dataframe thead th {\n",
       "        text-align: right;\n",
       "    }\n",
       "</style>\n",
       "<table border=\"1\" class=\"dataframe\">\n",
       "  <thead>\n",
       "    <tr style=\"text-align: right;\">\n",
       "      <th></th>\n",
       "      <th>Algorithm</th>\n",
       "      <th>TestScore</th>\n",
       "    </tr>\n",
       "  </thead>\n",
       "  <tbody>\n",
       "    <tr>\n",
       "      <th>0</th>\n",
       "      <td>Keras</td>\n",
       "      <td>0.859882</td>\n",
       "    </tr>\n",
       "    <tr>\n",
       "      <th>1</th>\n",
       "      <td>SVC</td>\n",
       "      <td>0.809083</td>\n",
       "    </tr>\n",
       "  </tbody>\n",
       "</table>\n",
       "</div>"
      ],
      "text/plain": [
       "  Algorithm  TestScore\n",
       "0     Keras   0.859882\n",
       "1       SVC   0.809083"
      ]
     },
     "execution_count": 29,
     "metadata": {},
     "output_type": "execute_result"
    }
   ],
   "source": [
    "test_df"
   ]
  },
  {
   "cell_type": "code",
   "execution_count": 30,
   "metadata": {},
   "outputs": [
    {
     "data": {
      "image/png": "[encoded data removed]",
      "text/plain": [
       "<Figure size 1152x720 with 1 Axes>"
      ]
     },
     "metadata": {
      "needs_background": "light"
     },
     "output_type": "display_data"
    }
   ],
   "source": [
    "plt.figure(figsize=(16, 10))\n",
    "\n",
    "g = sns.barplot(x='Algorithm', y='TestScore', data=test_df)\n",
    "\n",
    "g.set_xlabel(\"Test Accuracy\")\n",
    "g = g.set_title(\"Test Scores\")"
   ]
  },
  {
   "cell_type": "code",
   "execution_count": null,
   "metadata": {},
   "outputs": [],
   "source": []
  },
  {
   "cell_type": "code",
   "execution_count": null,
   "metadata": {},
   "outputs": [],
   "source": []
  }
 ],
 "metadata": {
  "kernelspec": {
   "display_name": "Python 3",
   "language": "python",
   "name": "python3"
  },
  "language_info": {
   "codemirror_mode": {
    "name": "ipython",
    "version": 3
   },
   "file_extension": ".py",
   "mimetype": "text/x-python",
   "name": "python",
   "nbconvert_exporter": "python",
   "pygments_lexer": "ipython3",
   "version": "3.7.6"
  },
  "varInspector": {
   "cols": {
    "lenName": 16,
    "lenType": 16,
    "lenVar": 40
   },
   "kernels_config": {
    "python": {
     "delete_cmd_postfix": "",
     "delete_cmd_prefix": "del ",
     "library": "var_list.py",
     "varRefreshCmd": "print(var_dic_list())"
    },
    "r": {
     "delete_cmd_postfix": ") ",
     "delete_cmd_prefix": "rm(",
     "library": "var_list.r",
     "varRefreshCmd": "cat(var_dic_list()) "
    }
   },
   "types_to_exclude": [
    "module",
    "function",
    "builtin_function_or_method",
    "instance",
    "_Feature"
   ],
   "window_display": false
  }
 },
 "nbformat": 4,
 "nbformat_minor": 4
}
