{
 "cells": [
  {
   "cell_type": "markdown",
   "metadata": {},
   "source": [
    "<h1 style=\"text-align: center;\">ENGR350</h1>\n",
    "<h1 style=\"text-align: center;\">Introduction Data Science with Python Term - Project</h1>\n",
    "<h3 style=\"text-align: center;\"><strong>Hotel Booking ML Models and Predictions</strong></h3>\n",
    "<h2 style=\"text-align: center;\">Banu Yobaş</h2>\n",
    "<h3 style=\"text-align: center;\">Fırat Tamur - Kutay Eroğlu</h3>\n",
    "<h3 style=\"text-align: center;\">May 21, 2020</h3>"
   ]
  },
  {
   "cell_type": "code",
   "execution_count": 1,
   "metadata": {},
   "outputs": [],
   "source": [
    "# importing data libraries\n",
    "\n",
    "import numpy as np\n",
    "import pandas as pd\n",
    "\n",
    "# importing visualization libraries\n",
    "\n",
    "import matplotlib.pyplot as plt\n",
    "import seaborn as sns\n",
    "%matplotlib inline"
   ]
  },
  {
   "cell_type": "code",
   "execution_count": 2,
   "metadata": {},
   "outputs": [],
   "source": [
    "# importing models from sklearn and tensorflow.keras\n",
    "\n",
    "# sklearn classification algorithms\n",
    "from sklearn.ensemble import RandomForestClassifier, GradientBoostingClassifier\n",
    "from sklearn.discriminant_analysis import LinearDiscriminantAnalysis\n",
    "from sklearn.linear_model import LogisticRegression\n",
    "from sklearn.neighbors import KNeighborsClassifier\n",
    "from sklearn.tree import DecisionTreeClassifier\n",
    "from sklearn.svm import SVC\n",
    "from sklearn.model_selection import cross_val_score, StratifiedKFold\n",
    "from sklearn.metrics import confusion_matrix\n",
    "\n",
    "# tensorflow.keras Sequential model\n",
    "from tensorflow.keras import Sequential\n",
    "from tensorflow.keras.layers import Dense\n",
    "from tensorflow.keras.backend import clear_session\n"
   ]
  },
  {
   "cell_type": "markdown",
   "metadata": {},
   "source": [
    "### Read Data:"
   ]
  },
  {
   "cell_type": "code",
   "execution_count": 3,
   "metadata": {},
   "outputs": [],
   "source": [
    "data = pd.read_csv('../Data/hotel_bookings_cleaned.csv')"
   ]
  },
  {
   "cell_type": "code",
   "execution_count": 4,
   "metadata": {},
   "outputs": [
    {
     "data": {
      "text/plain": [
       "(118894, 269)"
      ]
     },
     "execution_count": 4,
     "metadata": {},
     "output_type": "execute_result"
    }
   ],
   "source": [
    "data.shape"
   ]
  },
  {
   "cell_type": "code",
   "execution_count": 5,
   "metadata": {},
   "outputs": [
    {
     "name": "stdout",
     "output_type": "stream",
     "text": [
      "<class 'pandas.core.frame.DataFrame'>\n",
      "RangeIndex: 118894 entries, 0 to 118893\n",
      "Columns: 269 entries, is_canceled to customer_type_Transient-Party\n",
      "dtypes: float64(4), int64(265)\n",
      "memory usage: 244.0 MB\n"
     ]
    }
   ],
   "source": [
    "data.info()"
   ]
  },
  {
   "cell_type": "code",
   "execution_count": 6,
   "metadata": {},
   "outputs": [
    {
     "data": {
      "text/plain": [
       "Index([], dtype='object')"
      ]
     },
     "execution_count": 6,
     "metadata": {},
     "output_type": "execute_result"
    }
   ],
   "source": [
    "data.columns[data.isnull().any()]"
   ]
  },
  {
   "cell_type": "code",
   "execution_count": 7,
   "metadata": {},
   "outputs": [
    {
     "data": {
      "text/plain": [
       "False"
      ]
     },
     "execution_count": 7,
     "metadata": {},
     "output_type": "execute_result"
    }
   ],
   "source": [
    "data.isnull().values.any()"
   ]
  },
  {
   "cell_type": "code",
   "execution_count": 8,
   "metadata": {},
   "outputs": [
    {
     "data": {
      "text/html": [
       "<div>\n",
       "<style scoped>\n",
       "    .dataframe tbody tr th:only-of-type {\n",
       "        vertical-align: middle;\n",
       "    }\n",
       "\n",
       "    .dataframe tbody tr th {\n",
       "        vertical-align: top;\n",
       "    }\n",
       "\n",
       "    .dataframe thead th {\n",
       "        text-align: right;\n",
       "    }\n",
       "</style>\n",
       "<table border=\"1\" class=\"dataframe\">\n",
       "  <thead>\n",
       "    <tr style=\"text-align: right;\">\n",
       "      <th></th>\n",
       "      <th>is_canceled</th>\n",
       "      <th>lead_time</th>\n",
       "      <th>arrival_date_week_number</th>\n",
       "      <th>stays_in_weekend_nights</th>\n",
       "      <th>stays_in_week_nights</th>\n",
       "      <th>adults</th>\n",
       "      <th>children</th>\n",
       "      <th>babies</th>\n",
       "      <th>is_repeated_guest</th>\n",
       "      <th>booking_changes</th>\n",
       "      <th>...</th>\n",
       "      <th>assigned_room_type_K</th>\n",
       "      <th>assigned_room_type_L</th>\n",
       "      <th>assigned_room_type_P</th>\n",
       "      <th>deposit_type_No Deposit</th>\n",
       "      <th>deposit_type_Non Refund</th>\n",
       "      <th>deposit_type_Refundable</th>\n",
       "      <th>customer_type_Contract</th>\n",
       "      <th>customer_type_Group</th>\n",
       "      <th>customer_type_Transient</th>\n",
       "      <th>customer_type_Transient-Party</th>\n",
       "    </tr>\n",
       "  </thead>\n",
       "  <tbody>\n",
       "    <tr>\n",
       "      <th>count</th>\n",
       "      <td>118894.000000</td>\n",
       "      <td>118894.000000</td>\n",
       "      <td>118894.000000</td>\n",
       "      <td>118894.000000</td>\n",
       "      <td>118894.000000</td>\n",
       "      <td>118894.000000</td>\n",
       "      <td>118894.000000</td>\n",
       "      <td>118894.000000</td>\n",
       "      <td>118894.000000</td>\n",
       "      <td>118894.000000</td>\n",
       "      <td>...</td>\n",
       "      <td>118894.000000</td>\n",
       "      <td>118894.000000</td>\n",
       "      <td>118894.000000</td>\n",
       "      <td>118894.000000</td>\n",
       "      <td>118894.000000</td>\n",
       "      <td>118894.000000</td>\n",
       "      <td>118894.000000</td>\n",
       "      <td>118894.000000</td>\n",
       "      <td>118894.000000</td>\n",
       "      <td>118894.000000</td>\n",
       "    </tr>\n",
       "    <tr>\n",
       "      <th>mean</th>\n",
       "      <td>0.371348</td>\n",
       "      <td>104.313784</td>\n",
       "      <td>27.166737</td>\n",
       "      <td>0.928878</td>\n",
       "      <td>2.502111</td>\n",
       "      <td>1.855745</td>\n",
       "      <td>0.104126</td>\n",
       "      <td>0.007788</td>\n",
       "      <td>0.032012</td>\n",
       "      <td>0.221147</td>\n",
       "      <td>...</td>\n",
       "      <td>0.002347</td>\n",
       "      <td>0.000008</td>\n",
       "      <td>0.000017</td>\n",
       "      <td>0.876074</td>\n",
       "      <td>0.122563</td>\n",
       "      <td>0.001363</td>\n",
       "      <td>0.034274</td>\n",
       "      <td>0.004794</td>\n",
       "      <td>0.750013</td>\n",
       "      <td>0.210919</td>\n",
       "    </tr>\n",
       "    <tr>\n",
       "      <th>std</th>\n",
       "      <td>0.483167</td>\n",
       "      <td>106.904302</td>\n",
       "      <td>13.589887</td>\n",
       "      <td>0.996181</td>\n",
       "      <td>1.900065</td>\n",
       "      <td>0.488923</td>\n",
       "      <td>0.398146</td>\n",
       "      <td>0.089238</td>\n",
       "      <td>0.176032</td>\n",
       "      <td>0.652764</td>\n",
       "      <td>...</td>\n",
       "      <td>0.048385</td>\n",
       "      <td>0.002900</td>\n",
       "      <td>0.004101</td>\n",
       "      <td>0.329498</td>\n",
       "      <td>0.327936</td>\n",
       "      <td>0.036888</td>\n",
       "      <td>0.181933</td>\n",
       "      <td>0.069074</td>\n",
       "      <td>0.433007</td>\n",
       "      <td>0.407963</td>\n",
       "    </tr>\n",
       "    <tr>\n",
       "      <th>min</th>\n",
       "      <td>0.000000</td>\n",
       "      <td>0.000000</td>\n",
       "      <td>1.000000</td>\n",
       "      <td>0.000000</td>\n",
       "      <td>0.000000</td>\n",
       "      <td>0.000000</td>\n",
       "      <td>0.000000</td>\n",
       "      <td>0.000000</td>\n",
       "      <td>0.000000</td>\n",
       "      <td>0.000000</td>\n",
       "      <td>...</td>\n",
       "      <td>0.000000</td>\n",
       "      <td>0.000000</td>\n",
       "      <td>0.000000</td>\n",
       "      <td>0.000000</td>\n",
       "      <td>0.000000</td>\n",
       "      <td>0.000000</td>\n",
       "      <td>0.000000</td>\n",
       "      <td>0.000000</td>\n",
       "      <td>0.000000</td>\n",
       "      <td>0.000000</td>\n",
       "    </tr>\n",
       "    <tr>\n",
       "      <th>25%</th>\n",
       "      <td>0.000000</td>\n",
       "      <td>18.000000</td>\n",
       "      <td>16.000000</td>\n",
       "      <td>0.000000</td>\n",
       "      <td>1.000000</td>\n",
       "      <td>2.000000</td>\n",
       "      <td>0.000000</td>\n",
       "      <td>0.000000</td>\n",
       "      <td>0.000000</td>\n",
       "      <td>0.000000</td>\n",
       "      <td>...</td>\n",
       "      <td>0.000000</td>\n",
       "      <td>0.000000</td>\n",
       "      <td>0.000000</td>\n",
       "      <td>1.000000</td>\n",
       "      <td>0.000000</td>\n",
       "      <td>0.000000</td>\n",
       "      <td>0.000000</td>\n",
       "      <td>0.000000</td>\n",
       "      <td>1.000000</td>\n",
       "      <td>0.000000</td>\n",
       "    </tr>\n",
       "    <tr>\n",
       "      <th>50%</th>\n",
       "      <td>0.000000</td>\n",
       "      <td>69.000000</td>\n",
       "      <td>28.000000</td>\n",
       "      <td>1.000000</td>\n",
       "      <td>2.000000</td>\n",
       "      <td>2.000000</td>\n",
       "      <td>0.000000</td>\n",
       "      <td>0.000000</td>\n",
       "      <td>0.000000</td>\n",
       "      <td>0.000000</td>\n",
       "      <td>...</td>\n",
       "      <td>0.000000</td>\n",
       "      <td>0.000000</td>\n",
       "      <td>0.000000</td>\n",
       "      <td>1.000000</td>\n",
       "      <td>0.000000</td>\n",
       "      <td>0.000000</td>\n",
       "      <td>0.000000</td>\n",
       "      <td>0.000000</td>\n",
       "      <td>1.000000</td>\n",
       "      <td>0.000000</td>\n",
       "    </tr>\n",
       "    <tr>\n",
       "      <th>75%</th>\n",
       "      <td>1.000000</td>\n",
       "      <td>161.000000</td>\n",
       "      <td>38.000000</td>\n",
       "      <td>2.000000</td>\n",
       "      <td>3.000000</td>\n",
       "      <td>2.000000</td>\n",
       "      <td>0.000000</td>\n",
       "      <td>0.000000</td>\n",
       "      <td>0.000000</td>\n",
       "      <td>0.000000</td>\n",
       "      <td>...</td>\n",
       "      <td>0.000000</td>\n",
       "      <td>0.000000</td>\n",
       "      <td>0.000000</td>\n",
       "      <td>1.000000</td>\n",
       "      <td>0.000000</td>\n",
       "      <td>0.000000</td>\n",
       "      <td>0.000000</td>\n",
       "      <td>0.000000</td>\n",
       "      <td>1.000000</td>\n",
       "      <td>0.000000</td>\n",
       "    </tr>\n",
       "    <tr>\n",
       "      <th>max</th>\n",
       "      <td>1.000000</td>\n",
       "      <td>737.000000</td>\n",
       "      <td>53.000000</td>\n",
       "      <td>16.000000</td>\n",
       "      <td>41.000000</td>\n",
       "      <td>5.000000</td>\n",
       "      <td>3.000000</td>\n",
       "      <td>2.000000</td>\n",
       "      <td>1.000000</td>\n",
       "      <td>21.000000</td>\n",
       "      <td>...</td>\n",
       "      <td>1.000000</td>\n",
       "      <td>1.000000</td>\n",
       "      <td>1.000000</td>\n",
       "      <td>1.000000</td>\n",
       "      <td>1.000000</td>\n",
       "      <td>1.000000</td>\n",
       "      <td>1.000000</td>\n",
       "      <td>1.000000</td>\n",
       "      <td>1.000000</td>\n",
       "      <td>1.000000</td>\n",
       "    </tr>\n",
       "  </tbody>\n",
       "</table>\n",
       "<p>8 rows × 269 columns</p>\n",
       "</div>"
      ],
      "text/plain": [
       "         is_canceled      lead_time  arrival_date_week_number  \\\n",
       "count  118894.000000  118894.000000             118894.000000   \n",
       "mean        0.371348     104.313784                 27.166737   \n",
       "std         0.483167     106.904302                 13.589887   \n",
       "min         0.000000       0.000000                  1.000000   \n",
       "25%         0.000000      18.000000                 16.000000   \n",
       "50%         0.000000      69.000000                 28.000000   \n",
       "75%         1.000000     161.000000                 38.000000   \n",
       "max         1.000000     737.000000                 53.000000   \n",
       "\n",
       "       stays_in_weekend_nights  stays_in_week_nights         adults  \\\n",
       "count            118894.000000         118894.000000  118894.000000   \n",
       "mean                  0.928878              2.502111       1.855745   \n",
       "std                   0.996181              1.900065       0.488923   \n",
       "min                   0.000000              0.000000       0.000000   \n",
       "25%                   0.000000              1.000000       2.000000   \n",
       "50%                   1.000000              2.000000       2.000000   \n",
       "75%                   2.000000              3.000000       2.000000   \n",
       "max                  16.000000             41.000000       5.000000   \n",
       "\n",
       "            children         babies  is_repeated_guest  booking_changes  ...  \\\n",
       "count  118894.000000  118894.000000      118894.000000    118894.000000  ...   \n",
       "mean        0.104126       0.007788           0.032012         0.221147  ...   \n",
       "std         0.398146       0.089238           0.176032         0.652764  ...   \n",
       "min         0.000000       0.000000           0.000000         0.000000  ...   \n",
       "25%         0.000000       0.000000           0.000000         0.000000  ...   \n",
       "50%         0.000000       0.000000           0.000000         0.000000  ...   \n",
       "75%         0.000000       0.000000           0.000000         0.000000  ...   \n",
       "max         3.000000       2.000000           1.000000        21.000000  ...   \n",
       "\n",
       "       assigned_room_type_K  assigned_room_type_L  assigned_room_type_P  \\\n",
       "count         118894.000000         118894.000000         118894.000000   \n",
       "mean               0.002347              0.000008              0.000017   \n",
       "std                0.048385              0.002900              0.004101   \n",
       "min                0.000000              0.000000              0.000000   \n",
       "25%                0.000000              0.000000              0.000000   \n",
       "50%                0.000000              0.000000              0.000000   \n",
       "75%                0.000000              0.000000              0.000000   \n",
       "max                1.000000              1.000000              1.000000   \n",
       "\n",
       "       deposit_type_No Deposit  deposit_type_Non Refund  \\\n",
       "count            118894.000000            118894.000000   \n",
       "mean                  0.876074                 0.122563   \n",
       "std                   0.329498                 0.327936   \n",
       "min                   0.000000                 0.000000   \n",
       "25%                   1.000000                 0.000000   \n",
       "50%                   1.000000                 0.000000   \n",
       "75%                   1.000000                 0.000000   \n",
       "max                   1.000000                 1.000000   \n",
       "\n",
       "       deposit_type_Refundable  customer_type_Contract  customer_type_Group  \\\n",
       "count            118894.000000           118894.000000        118894.000000   \n",
       "mean                  0.001363                0.034274             0.004794   \n",
       "std                   0.036888                0.181933             0.069074   \n",
       "min                   0.000000                0.000000             0.000000   \n",
       "25%                   0.000000                0.000000             0.000000   \n",
       "50%                   0.000000                0.000000             0.000000   \n",
       "75%                   0.000000                0.000000             0.000000   \n",
       "max                   1.000000                1.000000             1.000000   \n",
       "\n",
       "       customer_type_Transient  customer_type_Transient-Party  \n",
       "count            118894.000000                  118894.000000  \n",
       "mean                  0.750013                       0.210919  \n",
       "std                   0.433007                       0.407963  \n",
       "min                   0.000000                       0.000000  \n",
       "25%                   1.000000                       0.000000  \n",
       "50%                   1.000000                       0.000000  \n",
       "75%                   1.000000                       0.000000  \n",
       "max                   1.000000                       1.000000  \n",
       "\n",
       "[8 rows x 269 columns]"
      ]
     },
     "execution_count": 8,
     "metadata": {},
     "output_type": "execute_result"
    }
   ],
   "source": [
    "data.describe()\n",
    "\n",
    "# we have different range of values.\n",
    "# most of our columns consist dummy variables "
   ]
  },
  {
   "cell_type": "code",
   "execution_count": 9,
   "metadata": {},
   "outputs": [],
   "source": [
    "X = data.drop(['is_canceled'], axis=1).values\n",
    "y = data['is_canceled'].values"
   ]
  },
  {
   "cell_type": "code",
   "execution_count": 10,
   "metadata": {},
   "outputs": [
    {
     "data": {
      "text/plain": [
       "((118894, 268), (118894,))"
      ]
     },
     "execution_count": 10,
     "metadata": {},
     "output_type": "execute_result"
    }
   ],
   "source": [
    "X.shape, y.shape"
   ]
  },
  {
   "cell_type": "code",
   "execution_count": 11,
   "metadata": {},
   "outputs": [],
   "source": [
    "train_data_length = X.shape[0]"
   ]
  },
  {
   "cell_type": "code",
   "execution_count": 12,
   "metadata": {},
   "outputs": [],
   "source": [
    "from sklearn.model_selection import train_test_split\n",
    "\n",
    "X_train, X_test, y_train, y_test = train_test_split(X[:train_data_length], y[:train_data_length], test_size=0.1)"
   ]
  },
  {
   "cell_type": "code",
   "execution_count": 13,
   "metadata": {},
   "outputs": [
    {
     "data": {
      "text/plain": [
       "((107004, 268), (11890, 268), (107004,), (11890,))"
      ]
     },
     "execution_count": 13,
     "metadata": {},
     "output_type": "execute_result"
    }
   ],
   "source": [
    "X_train.shape, X_test.shape, y_train.shape, y_test.shape"
   ]
  },
  {
   "cell_type": "markdown",
   "metadata": {},
   "source": [
    "### Standardize Data:"
   ]
  },
  {
   "cell_type": "code",
   "execution_count": 14,
   "metadata": {},
   "outputs": [],
   "source": [
    "from sklearn.preprocessing import StandardScaler\n",
    "\n",
    "std = StandardScaler()\n",
    "\n",
    "X_train = std.fit_transform(X_train)\n",
    "X_test = std.transform(X_test)"
   ]
  },
  {
   "cell_type": "code",
   "execution_count": 15,
   "metadata": {},
   "outputs": [
    {
     "data": {
      "text/html": [
       "<div>\n",
       "<style scoped>\n",
       "    .dataframe tbody tr th:only-of-type {\n",
       "        vertical-align: middle;\n",
       "    }\n",
       "\n",
       "    .dataframe tbody tr th {\n",
       "        vertical-align: top;\n",
       "    }\n",
       "\n",
       "    .dataframe thead th {\n",
       "        text-align: right;\n",
       "    }\n",
       "</style>\n",
       "<table border=\"1\" class=\"dataframe\">\n",
       "  <thead>\n",
       "    <tr style=\"text-align: right;\">\n",
       "      <th></th>\n",
       "      <th>0</th>\n",
       "      <th>1</th>\n",
       "      <th>2</th>\n",
       "      <th>3</th>\n",
       "      <th>4</th>\n",
       "      <th>5</th>\n",
       "      <th>6</th>\n",
       "      <th>7</th>\n",
       "      <th>8</th>\n",
       "      <th>9</th>\n",
       "      <th>...</th>\n",
       "      <th>258</th>\n",
       "      <th>259</th>\n",
       "      <th>260</th>\n",
       "      <th>261</th>\n",
       "      <th>262</th>\n",
       "      <th>263</th>\n",
       "      <th>264</th>\n",
       "      <th>265</th>\n",
       "      <th>266</th>\n",
       "      <th>267</th>\n",
       "    </tr>\n",
       "  </thead>\n",
       "  <tbody>\n",
       "    <tr>\n",
       "      <th>count</th>\n",
       "      <td>1.070040e+05</td>\n",
       "      <td>1.070040e+05</td>\n",
       "      <td>1.070040e+05</td>\n",
       "      <td>1.070040e+05</td>\n",
       "      <td>1.070040e+05</td>\n",
       "      <td>1.070040e+05</td>\n",
       "      <td>1.070040e+05</td>\n",
       "      <td>1.070040e+05</td>\n",
       "      <td>1.070040e+05</td>\n",
       "      <td>1.070040e+05</td>\n",
       "      <td>...</td>\n",
       "      <td>1.070040e+05</td>\n",
       "      <td>1.070040e+05</td>\n",
       "      <td>1.070040e+05</td>\n",
       "      <td>1.070040e+05</td>\n",
       "      <td>1.070040e+05</td>\n",
       "      <td>1.070040e+05</td>\n",
       "      <td>1.070040e+05</td>\n",
       "      <td>1.070040e+05</td>\n",
       "      <td>1.070040e+05</td>\n",
       "      <td>1.070040e+05</td>\n",
       "    </tr>\n",
       "    <tr>\n",
       "      <th>mean</th>\n",
       "      <td>4.294639e-17</td>\n",
       "      <td>3.685388e-17</td>\n",
       "      <td>8.350225e-18</td>\n",
       "      <td>3.354201e-17</td>\n",
       "      <td>3.047915e-17</td>\n",
       "      <td>3.008073e-17</td>\n",
       "      <td>-2.908468e-17</td>\n",
       "      <td>2.792262e-17</td>\n",
       "      <td>2.747440e-18</td>\n",
       "      <td>-5.046657e-18</td>\n",
       "      <td>...</td>\n",
       "      <td>-7.702792e-18</td>\n",
       "      <td>1.531428e-18</td>\n",
       "      <td>1.676685e-18</td>\n",
       "      <td>5.586184e-17</td>\n",
       "      <td>-3.393213e-17</td>\n",
       "      <td>2.045224e-17</td>\n",
       "      <td>2.008702e-18</td>\n",
       "      <td>1.181980e-17</td>\n",
       "      <td>-6.729983e-17</td>\n",
       "      <td>-1.308147e-17</td>\n",
       "    </tr>\n",
       "    <tr>\n",
       "      <th>std</th>\n",
       "      <td>1.000005e+00</td>\n",
       "      <td>1.000005e+00</td>\n",
       "      <td>1.000005e+00</td>\n",
       "      <td>1.000005e+00</td>\n",
       "      <td>1.000005e+00</td>\n",
       "      <td>1.000005e+00</td>\n",
       "      <td>1.000005e+00</td>\n",
       "      <td>1.000005e+00</td>\n",
       "      <td>1.000005e+00</td>\n",
       "      <td>1.000005e+00</td>\n",
       "      <td>...</td>\n",
       "      <td>1.000005e+00</td>\n",
       "      <td>1.000005e+00</td>\n",
       "      <td>1.000005e+00</td>\n",
       "      <td>1.000005e+00</td>\n",
       "      <td>1.000005e+00</td>\n",
       "      <td>1.000005e+00</td>\n",
       "      <td>1.000005e+00</td>\n",
       "      <td>1.000005e+00</td>\n",
       "      <td>1.000005e+00</td>\n",
       "      <td>1.000005e+00</td>\n",
       "    </tr>\n",
       "    <tr>\n",
       "      <th>min</th>\n",
       "      <td>-9.767182e-01</td>\n",
       "      <td>-1.926124e+00</td>\n",
       "      <td>-9.307626e-01</td>\n",
       "      <td>-1.314286e+00</td>\n",
       "      <td>-3.796049e+00</td>\n",
       "      <td>-2.617225e-01</td>\n",
       "      <td>-8.741091e-02</td>\n",
       "      <td>-1.820614e-01</td>\n",
       "      <td>-3.374246e-01</td>\n",
       "      <td>-1.327995e-01</td>\n",
       "      <td>...</td>\n",
       "      <td>-4.906691e-02</td>\n",
       "      <td>-3.057046e-03</td>\n",
       "      <td>-4.323337e-03</td>\n",
       "      <td>-2.657058e+00</td>\n",
       "      <td>-3.739573e-01</td>\n",
       "      <td>-3.721615e-02</td>\n",
       "      <td>-1.887223e-01</td>\n",
       "      <td>-6.933883e-02</td>\n",
       "      <td>-1.732526e+00</td>\n",
       "      <td>-5.167004e-01</td>\n",
       "    </tr>\n",
       "    <tr>\n",
       "      <th>25%</th>\n",
       "      <td>-8.082092e-01</td>\n",
       "      <td>-8.226712e-01</td>\n",
       "      <td>-9.307626e-01</td>\n",
       "      <td>-7.891880e-01</td>\n",
       "      <td>2.956217e-01</td>\n",
       "      <td>-2.617225e-01</td>\n",
       "      <td>-8.741091e-02</td>\n",
       "      <td>-1.820614e-01</td>\n",
       "      <td>-3.374246e-01</td>\n",
       "      <td>-1.327995e-01</td>\n",
       "      <td>...</td>\n",
       "      <td>-4.906691e-02</td>\n",
       "      <td>-3.057046e-03</td>\n",
       "      <td>-4.323337e-03</td>\n",
       "      <td>3.763561e-01</td>\n",
       "      <td>-3.739573e-01</td>\n",
       "      <td>-3.721615e-02</td>\n",
       "      <td>-1.887223e-01</td>\n",
       "      <td>-6.933883e-02</td>\n",
       "      <td>5.771920e-01</td>\n",
       "      <td>-5.167004e-01</td>\n",
       "    </tr>\n",
       "    <tr>\n",
       "      <th>50%</th>\n",
       "      <td>-3.307672e-01</td>\n",
       "      <td>6.009089e-02</td>\n",
       "      <td>7.155533e-02</td>\n",
       "      <td>-2.640899e-01</td>\n",
       "      <td>2.956217e-01</td>\n",
       "      <td>-2.617225e-01</td>\n",
       "      <td>-8.741091e-02</td>\n",
       "      <td>-1.820614e-01</td>\n",
       "      <td>-3.374246e-01</td>\n",
       "      <td>-1.327995e-01</td>\n",
       "      <td>...</td>\n",
       "      <td>-4.906691e-02</td>\n",
       "      <td>-3.057046e-03</td>\n",
       "      <td>-4.323337e-03</td>\n",
       "      <td>3.763561e-01</td>\n",
       "      <td>-3.739573e-01</td>\n",
       "      <td>-3.721615e-02</td>\n",
       "      <td>-1.887223e-01</td>\n",
       "      <td>-6.933883e-02</td>\n",
       "      <td>5.771920e-01</td>\n",
       "      <td>-5.167004e-01</td>\n",
       "    </tr>\n",
       "    <tr>\n",
       "      <th>75%</th>\n",
       "      <td>5.305009e-01</td>\n",
       "      <td>7.957260e-01</td>\n",
       "      <td>1.073873e+00</td>\n",
       "      <td>2.610082e-01</td>\n",
       "      <td>2.956217e-01</td>\n",
       "      <td>-2.617225e-01</td>\n",
       "      <td>-8.741091e-02</td>\n",
       "      <td>-1.820614e-01</td>\n",
       "      <td>-3.374246e-01</td>\n",
       "      <td>-1.327995e-01</td>\n",
       "      <td>...</td>\n",
       "      <td>-4.906691e-02</td>\n",
       "      <td>-3.057046e-03</td>\n",
       "      <td>-4.323337e-03</td>\n",
       "      <td>3.763561e-01</td>\n",
       "      <td>-3.739573e-01</td>\n",
       "      <td>-3.721615e-02</td>\n",
       "      <td>-1.887223e-01</td>\n",
       "      <td>-6.933883e-02</td>\n",
       "      <td>5.771920e-01</td>\n",
       "      <td>-5.167004e-01</td>\n",
       "    </tr>\n",
       "    <tr>\n",
       "      <th>max</th>\n",
       "      <td>5.922788e+00</td>\n",
       "      <td>1.899179e+00</td>\n",
       "      <td>1.510633e+01</td>\n",
       "      <td>2.021474e+01</td>\n",
       "      <td>6.433128e+00</td>\n",
       "      <td>7.266599e+00</td>\n",
       "      <td>2.247789e+01</td>\n",
       "      <td>5.492653e+00</td>\n",
       "      <td>3.173217e+01</td>\n",
       "      <td>2.218791e+01</td>\n",
       "      <td>...</td>\n",
       "      <td>2.038033e+01</td>\n",
       "      <td>3.271131e+02</td>\n",
       "      <td>2.313028e+02</td>\n",
       "      <td>3.763561e-01</td>\n",
       "      <td>2.674102e+00</td>\n",
       "      <td>2.687006e+01</td>\n",
       "      <td>5.298790e+00</td>\n",
       "      <td>1.442193e+01</td>\n",
       "      <td>5.771920e-01</td>\n",
       "      <td>1.935358e+00</td>\n",
       "    </tr>\n",
       "  </tbody>\n",
       "</table>\n",
       "<p>8 rows × 268 columns</p>\n",
       "</div>"
      ],
      "text/plain": [
       "                0             1             2             3             4    \\\n",
       "count  1.070040e+05  1.070040e+05  1.070040e+05  1.070040e+05  1.070040e+05   \n",
       "mean   4.294639e-17  3.685388e-17  8.350225e-18  3.354201e-17  3.047915e-17   \n",
       "std    1.000005e+00  1.000005e+00  1.000005e+00  1.000005e+00  1.000005e+00   \n",
       "min   -9.767182e-01 -1.926124e+00 -9.307626e-01 -1.314286e+00 -3.796049e+00   \n",
       "25%   -8.082092e-01 -8.226712e-01 -9.307626e-01 -7.891880e-01  2.956217e-01   \n",
       "50%   -3.307672e-01  6.009089e-02  7.155533e-02 -2.640899e-01  2.956217e-01   \n",
       "75%    5.305009e-01  7.957260e-01  1.073873e+00  2.610082e-01  2.956217e-01   \n",
       "max    5.922788e+00  1.899179e+00  1.510633e+01  2.021474e+01  6.433128e+00   \n",
       "\n",
       "                5             6             7             8             9    \\\n",
       "count  1.070040e+05  1.070040e+05  1.070040e+05  1.070040e+05  1.070040e+05   \n",
       "mean   3.008073e-17 -2.908468e-17  2.792262e-17  2.747440e-18 -5.046657e-18   \n",
       "std    1.000005e+00  1.000005e+00  1.000005e+00  1.000005e+00  1.000005e+00   \n",
       "min   -2.617225e-01 -8.741091e-02 -1.820614e-01 -3.374246e-01 -1.327995e-01   \n",
       "25%   -2.617225e-01 -8.741091e-02 -1.820614e-01 -3.374246e-01 -1.327995e-01   \n",
       "50%   -2.617225e-01 -8.741091e-02 -1.820614e-01 -3.374246e-01 -1.327995e-01   \n",
       "75%   -2.617225e-01 -8.741091e-02 -1.820614e-01 -3.374246e-01 -1.327995e-01   \n",
       "max    7.266599e+00  2.247789e+01  5.492653e+00  3.173217e+01  2.218791e+01   \n",
       "\n",
       "       ...           258           259           260           261  \\\n",
       "count  ...  1.070040e+05  1.070040e+05  1.070040e+05  1.070040e+05   \n",
       "mean   ... -7.702792e-18  1.531428e-18  1.676685e-18  5.586184e-17   \n",
       "std    ...  1.000005e+00  1.000005e+00  1.000005e+00  1.000005e+00   \n",
       "min    ... -4.906691e-02 -3.057046e-03 -4.323337e-03 -2.657058e+00   \n",
       "25%    ... -4.906691e-02 -3.057046e-03 -4.323337e-03  3.763561e-01   \n",
       "50%    ... -4.906691e-02 -3.057046e-03 -4.323337e-03  3.763561e-01   \n",
       "75%    ... -4.906691e-02 -3.057046e-03 -4.323337e-03  3.763561e-01   \n",
       "max    ...  2.038033e+01  3.271131e+02  2.313028e+02  3.763561e-01   \n",
       "\n",
       "                262           263           264           265           266  \\\n",
       "count  1.070040e+05  1.070040e+05  1.070040e+05  1.070040e+05  1.070040e+05   \n",
       "mean  -3.393213e-17  2.045224e-17  2.008702e-18  1.181980e-17 -6.729983e-17   \n",
       "std    1.000005e+00  1.000005e+00  1.000005e+00  1.000005e+00  1.000005e+00   \n",
       "min   -3.739573e-01 -3.721615e-02 -1.887223e-01 -6.933883e-02 -1.732526e+00   \n",
       "25%   -3.739573e-01 -3.721615e-02 -1.887223e-01 -6.933883e-02  5.771920e-01   \n",
       "50%   -3.739573e-01 -3.721615e-02 -1.887223e-01 -6.933883e-02  5.771920e-01   \n",
       "75%   -3.739573e-01 -3.721615e-02 -1.887223e-01 -6.933883e-02  5.771920e-01   \n",
       "max    2.674102e+00  2.687006e+01  5.298790e+00  1.442193e+01  5.771920e-01   \n",
       "\n",
       "                267  \n",
       "count  1.070040e+05  \n",
       "mean  -1.308147e-17  \n",
       "std    1.000005e+00  \n",
       "min   -5.167004e-01  \n",
       "25%   -5.167004e-01  \n",
       "50%   -5.167004e-01  \n",
       "75%   -5.167004e-01  \n",
       "max    1.935358e+00  \n",
       "\n",
       "[8 rows x 268 columns]"
      ]
     },
     "execution_count": 15,
     "metadata": {},
     "output_type": "execute_result"
    }
   ],
   "source": [
    "pd.DataFrame(X_train).describe() # result of standardization"
   ]
  },
  {
   "cell_type": "code",
   "execution_count": 16,
   "metadata": {},
   "outputs": [],
   "source": [
    "# PCA Dimension Reduction\n",
    "\n",
    "from sklearn.decomposition import PCA\n",
    "\n",
    "pca = PCA(n_components = 0.95)\n",
    "\n",
    "X_train = pca.fit_transform(X_train)\n",
    "X_test = pca.transform(X_test)\n"
   ]
  },
  {
   "cell_type": "code",
   "execution_count": 17,
   "metadata": {},
   "outputs": [
    {
     "data": {
      "text/plain": [
       "((107004, 220), (11890, 220))"
      ]
     },
     "execution_count": 17,
     "metadata": {},
     "output_type": "execute_result"
    }
   ],
   "source": [
    "X_train.shape, X_test.shape"
   ]
  },
  {
   "cell_type": "markdown",
   "metadata": {},
   "source": [
    "### Create Models and Fit with KFold"
   ]
  },
  {
   "cell_type": "code",
   "execution_count": 18,
   "metadata": {},
   "outputs": [
    {
     "data": {
      "application/vnd.jupyter.widget-view+json": {
       "model_id": "95d6699277704adeb5834382037bc2c6",
       "version_major": 2,
       "version_minor": 0
      },
      "text/plain": [
       "HBox(children=(FloatProgress(value=0.0, max=2.0), HTML(value='')))"
      ]
     },
     "metadata": {},
     "output_type": "display_data"
    },
    {
     "name": "stderr",
     "output_type": "stream",
     "text": [
      "[Parallel(n_jobs=-1)]: Using backend LokyBackend with 4 concurrent workers.\n",
      "[Parallel(n_jobs=-1)]: Done  10 out of  10 | elapsed:   36.2s finished\n",
      "[Parallel(n_jobs=-1)]: Using backend LokyBackend with 4 concurrent workers.\n"
     ]
    },
    {
     "name": "stdout",
     "output_type": "stream",
     "text": [
      "\n"
     ]
    },
    {
     "name": "stderr",
     "output_type": "stream",
     "text": [
      "[Parallel(n_jobs=-1)]: Done  10 out of  10 | elapsed:   39.0s finished\n"
     ]
    }
   ],
   "source": [
    "import warnings\n",
    "from tqdm.notebook import tqdm\n",
    "warnings.filterwarnings('ignore')\n",
    "\n",
    "kfold = StratifiedKFold(n_splits=10)\n",
    "\n",
    "# Modeling with different algorithms\n",
    "\n",
    "state = 42\n",
    "classifiers = list()\n",
    "\n",
    "# algorithms = [\"SVC\",\"DecisionTree\", \"RandomForest\",\"GradientBoosting\", \"KNeighboors\",\"LogisticRegression\",\n",
    "#               \"LinearDiscriminantAnalysis\", \"Keras\"]\n",
    "\n",
    "algorithms = [\"LogisticRegression\", \"LinearDiscriminantAnalysis\", \"Keras\"]\n",
    "\n",
    "tree_algorithms = {\"DecisionTree\": 1, \"RandomForest\": 2, \"GradientBoosting\": 3}\n",
    "\n",
    "# classifiers.append(SVC(random_state=state, kernel='rbf'))\n",
    "# classifiers.append(DecisionTreeClassifier(random_state=state))\n",
    "# classifiers.append(RandomForestClassifier(random_state=state))\n",
    "# classifiers.append(GradientBoostingClassifier(random_state=state))\n",
    "# classifiers.append(KNeighborsClassifier())\n",
    "classifiers.append(LogisticRegression(random_state = state))\n",
    "classifiers.append(LinearDiscriminantAnalysis())\n",
    "\n",
    "cv_results = dict()\n",
    "\n",
    "for i in tqdm(range(len(classifiers))):\n",
    "    cv_results[algorithms[i]] = cross_val_score(classifiers[i], X_train, y_train, scoring='accuracy', cv = kfold, verbose=1, n_jobs=-1)\n"
   ]
  },
  {
   "cell_type": "markdown",
   "metadata": {},
   "source": [
    "### Keras Sequential Model:"
   ]
  },
  {
   "cell_type": "code",
   "execution_count": 19,
   "metadata": {},
   "outputs": [
    {
     "name": "stdout",
     "output_type": "stream",
     "text": [
      "Train on 85603 samples, validate on 21401 samples\n",
      "Epoch 1/32\n",
      "85603/85603 [==============================] - 10s 120us/sample - loss: 0.4110 - accuracy: 0.8046 - val_loss: 0.3619 - val_accuracy: 0.8283\n",
      "Epoch 2/32\n",
      "85603/85603 [==============================] - 8s 94us/sample - loss: 0.3475 - accuracy: 0.8362 - val_loss: 0.3404 - val_accuracy: 0.8393\n",
      "Epoch 3/32\n",
      "85603/85603 [==============================] - 8s 94us/sample - loss: 0.3284 - accuracy: 0.8459 - val_loss: 0.3328 - val_accuracy: 0.8469\n",
      "Epoch 4/32\n",
      "85603/85603 [==============================] - 8s 93us/sample - loss: 0.3143 - accuracy: 0.8524 - val_loss: 0.3261 - val_accuracy: 0.8485\n",
      "Epoch 5/32\n",
      "85603/85603 [==============================] - 8s 93us/sample - loss: 0.3041 - accuracy: 0.8576 - val_loss: 0.3212 - val_accuracy: 0.8541\n",
      "Epoch 6/32\n",
      "85603/85603 [==============================] - 9s 105us/sample - loss: 0.2931 - accuracy: 0.8640 - val_loss: 0.3221 - val_accuracy: 0.8530\n",
      "Epoch 7/32\n",
      "85603/85603 [==============================] - 9s 101us/sample - loss: 0.2845 - accuracy: 0.8676 - val_loss: 0.3207 - val_accuracy: 0.8573\n",
      "Epoch 8/32\n",
      "85603/85603 [==============================] - 9s 101us/sample - loss: 0.2740 - accuracy: 0.8716 - val_loss: 0.3280 - val_accuracy: 0.8537\n",
      "Epoch 9/32\n",
      "85603/85603 [==============================] - 11s 131us/sample - loss: 0.2651 - accuracy: 0.8779 - val_loss: 0.3251 - val_accuracy: 0.8594\n",
      "Epoch 10/32\n",
      "85603/85603 [==============================] - 9s 106us/sample - loss: 0.2556 - accuracy: 0.8833 - val_loss: 0.3310 - val_accuracy: 0.8564\n",
      "Epoch 11/32\n",
      "85603/85603 [==============================] - 8s 95us/sample - loss: 0.2464 - accuracy: 0.8875 - val_loss: 0.3337 - val_accuracy: 0.8584\n",
      "Epoch 12/32\n",
      "85603/85603 [==============================] - 8s 95us/sample - loss: 0.2368 - accuracy: 0.8918 - val_loss: 0.3355 - val_accuracy: 0.8574\n",
      "Epoch 13/32\n",
      "85603/85603 [==============================] - 8s 96us/sample - loss: 0.2259 - accuracy: 0.8963 - val_loss: 0.3526 - val_accuracy: 0.8558\n",
      "Epoch 14/32\n",
      "85603/85603 [==============================] - 8s 98us/sample - loss: 0.2180 - accuracy: 0.9032 - val_loss: 0.3553 - val_accuracy: 0.8551\n",
      "Epoch 15/32\n",
      "85603/85603 [==============================] - 8s 96us/sample - loss: 0.2054 - accuracy: 0.9084 - val_loss: 0.3674 - val_accuracy: 0.8575\n",
      "Epoch 16/32\n",
      "85603/85603 [==============================] - 8s 95us/sample - loss: 0.1975 - accuracy: 0.9120 - val_loss: 0.3852 - val_accuracy: 0.8566\n",
      "Epoch 17/32\n",
      "85603/85603 [==============================] - 8s 97us/sample - loss: 0.1877 - accuracy: 0.9165 - val_loss: 0.3957 - val_accuracy: 0.8587\n",
      "Epoch 18/32\n",
      "85603/85603 [==============================] - 8s 97us/sample - loss: 0.1753 - accuracy: 0.9219 - val_loss: 0.4267 - val_accuracy: 0.8596\n",
      "Epoch 19/32\n",
      "85603/85603 [==============================] - 8s 99us/sample - loss: 0.1675 - accuracy: 0.9263 - val_loss: 0.4183 - val_accuracy: 0.8549\n",
      "Epoch 20/32\n",
      "85603/85603 [==============================] - 8s 99us/sample - loss: 0.1579 - accuracy: 0.9310 - val_loss: 0.4364 - val_accuracy: 0.8586\n",
      "Epoch 21/32\n",
      "85603/85603 [==============================] - 9s 102us/sample - loss: 0.1492 - accuracy: 0.9364 - val_loss: 0.4510 - val_accuracy: 0.8574\n",
      "Epoch 22/32\n",
      "85603/85603 [==============================] - 9s 100us/sample - loss: 0.1431 - accuracy: 0.9393 - val_loss: 0.4668 - val_accuracy: 0.8574\n",
      "Epoch 23/32\n",
      "85603/85603 [==============================] - 8s 97us/sample - loss: 0.1361 - accuracy: 0.9430 - val_loss: 0.4914 - val_accuracy: 0.8509\n",
      "Epoch 24/32\n",
      "85603/85603 [==============================] - 8s 98us/sample - loss: 0.1298 - accuracy: 0.9446 - val_loss: 0.5024 - val_accuracy: 0.8515\n",
      "Epoch 25/32\n",
      "85603/85603 [==============================] - 8s 96us/sample - loss: 0.1240 - accuracy: 0.9487 - val_loss: 0.5253 - val_accuracy: 0.8536\n",
      "Epoch 26/32\n",
      "85603/85603 [==============================] - 8s 96us/sample - loss: 0.1201 - accuracy: 0.9510 - val_loss: 0.5587 - val_accuracy: 0.8528\n",
      "Epoch 27/32\n",
      "85603/85603 [==============================] - 8s 97us/sample - loss: 0.1131 - accuracy: 0.9538 - val_loss: 0.5583 - val_accuracy: 0.8535\n",
      "Epoch 28/32\n",
      "85603/85603 [==============================] - 9s 100us/sample - loss: 0.1052 - accuracy: 0.9573 - val_loss: 0.5704 - val_accuracy: 0.8558\n",
      "Epoch 29/32\n",
      "85603/85603 [==============================] - 12s 135us/sample - loss: 0.1023 - accuracy: 0.9585 - val_loss: 0.5752 - val_accuracy: 0.8529\n",
      "Epoch 30/32\n",
      "85603/85603 [==============================] - 8s 95us/sample - loss: 0.0986 - accuracy: 0.9604 - val_loss: 0.5858 - val_accuracy: 0.8532\n",
      "Epoch 31/32\n",
      "85603/85603 [==============================] - 6s 69us/sample - loss: 0.0939 - accuracy: 0.9624 - val_loss: 0.6518 - val_accuracy: 0.8530\n",
      "Epoch 32/32\n",
      "85603/85603 [==============================] - 7s 76us/sample - loss: 0.0923 - accuracy: 0.9626 - val_loss: 0.6147 - val_accuracy: 0.8506\n",
      "[0.651026355959569, 0.8460891]\n"
     ]
    }
   ],
   "source": [
    "model = Sequential()\n",
    "\n",
    "model.add(Dense(128, input_shape=(X_train.shape[1],), activation=\"relu\"))\n",
    "model.add(Dense(256, activation=\"relu\"))\n",
    "model.add(Dense(128, activation=\"relu\"))\n",
    "model.add(Dense(1, activation='sigmoid'))\n",
    "\n",
    "model.compile(loss='binary_crossentropy', optimizer='adam', metrics=['accuracy'])\n",
    "\n",
    "model.fit(X_train, y_train, epochs=32, batch_size=128, verbose=1, validation_split=0.2)\n",
    "score = model.evaluate(X_test, y_test, verbose=0)\n",
    "\n",
    "print(score)"
   ]
  },
  {
   "cell_type": "code",
   "execution_count": 20,
   "metadata": {},
   "outputs": [],
   "source": [
    "cv_results['Keras'] = np.array([score[1]])"
   ]
  },
  {
   "cell_type": "code",
   "execution_count": 21,
   "metadata": {},
   "outputs": [],
   "source": [
    "cv_means = {}\n",
    "cv_std = {}\n",
    "\n",
    "for algorithm in cv_results.keys():\n",
    "    cv_means[algorithm] = [cv_results[algorithm].mean(), cv_results[algorithm].std()]\n",
    "\n",
    "cv_means = {k: v for k, v in sorted(cv_means.items(), key=lambda item: item[1], reverse=True)}\n",
    "cv = np.array(list(cv_means.values()))\n",
    "    \n",
    "cv_df = pd.DataFrame({\"Algorithm\": list(cv_means.keys()), \"CVMean\": cv[:, 0], \"CVStd\": cv[:, 1]})"
   ]
  },
  {
   "cell_type": "code",
   "execution_count": 22,
   "metadata": {},
   "outputs": [
    {
     "data": {
      "text/html": [
       "<div>\n",
       "<style scoped>\n",
       "    .dataframe tbody tr th:only-of-type {\n",
       "        vertical-align: middle;\n",
       "    }\n",
       "\n",
       "    .dataframe tbody tr th {\n",
       "        vertical-align: top;\n",
       "    }\n",
       "\n",
       "    .dataframe thead th {\n",
       "        text-align: right;\n",
       "    }\n",
       "</style>\n",
       "<table border=\"1\" class=\"dataframe\">\n",
       "  <thead>\n",
       "    <tr style=\"text-align: right;\">\n",
       "      <th></th>\n",
       "      <th>Algorithm</th>\n",
       "      <th>CVMean</th>\n",
       "      <th>CVStd</th>\n",
       "    </tr>\n",
       "  </thead>\n",
       "  <tbody>\n",
       "    <tr>\n",
       "      <th>0</th>\n",
       "      <td>Keras</td>\n",
       "      <td>0.846089</td>\n",
       "      <td>0.000000</td>\n",
       "    </tr>\n",
       "    <tr>\n",
       "      <th>1</th>\n",
       "      <td>LogisticRegression</td>\n",
       "      <td>0.811185</td>\n",
       "      <td>0.004038</td>\n",
       "    </tr>\n",
       "    <tr>\n",
       "      <th>2</th>\n",
       "      <td>LinearDiscriminantAnalysis</td>\n",
       "      <td>0.787569</td>\n",
       "      <td>0.006361</td>\n",
       "    </tr>\n",
       "  </tbody>\n",
       "</table>\n",
       "</div>"
      ],
      "text/plain": [
       "                    Algorithm    CVMean     CVStd\n",
       "0                       Keras  0.846089  0.000000\n",
       "1          LogisticRegression  0.811185  0.004038\n",
       "2  LinearDiscriminantAnalysis  0.787569  0.006361"
      ]
     },
     "execution_count": 22,
     "metadata": {},
     "output_type": "execute_result"
    }
   ],
   "source": [
    "cv_df"
   ]
  },
  {
   "cell_type": "code",
   "execution_count": 23,
   "metadata": {},
   "outputs": [
    {
     "data": {
      "image/png": "[encoded data removed]",
      "text/plain": [
       "<Figure size 1152x720 with 1 Axes>"
      ]
     },
     "metadata": {
      "needs_background": "light"
     },
     "output_type": "display_data"
    }
   ],
   "source": [
    "plt.figure(figsize=(16, 10))\n",
    "\n",
    "sns.set_color_codes(\"pastel\")\n",
    "g = sns.barplot(x='Algorithm', y='CVMean', data=cv_df, color='b')\n",
    "sns.set_color_codes(\"muted\")\n",
    "g = sns.barplot(x='Algorithm', y='CVStd', data=cv_df)\n",
    "\n",
    "g.set_xlabel(\"Mean Accuracy\")\n",
    "g = g.set_title(\"Cross validation Scores\")"
   ]
  },
  {
   "cell_type": "code",
   "execution_count": 24,
   "metadata": {},
   "outputs": [],
   "source": [
    "def plot_feature_importance(classifier, name):\n",
    "    \n",
    "    plt.figure(figsize=(16, 8))\n",
    "    \n",
    "    indices = np.argsort(classifier.feature_importances_)[::-1][:20]\n",
    "    \n",
    "    importances = classifier.feature_importances_[indices]\n",
    "    columns = data.drop(['is_canceled'], axis=1).columns[indices]\n",
    "    \n",
    "    g = sns.barplot(x=importances, y=columns)\n",
    "    \n",
    "    plt.title(name)\n",
    "    plt.show(g)"
   ]
  },
  {
   "cell_type": "code",
   "execution_count": 26,
   "metadata": {},
   "outputs": [],
   "source": [
    "# for tree in tree_algorithms.keys():\n",
    "#     classifiers[tree_algorithms[tree]].fit(X_train, y_train)\n",
    "#     plot_feature_importance( classifiers[tree_algorithms[tree]], tree)"
   ]
  },
  {
   "cell_type": "markdown",
   "metadata": {},
   "source": [
    "### Test Data:"
   ]
  },
  {
   "cell_type": "code",
   "execution_count": 27,
   "metadata": {},
   "outputs": [
    {
     "data": {
      "application/vnd.jupyter.widget-view+json": {
       "model_id": "6ce67b434bd24035a6869fe3ceb11aa5",
       "version_major": 2,
       "version_minor": 0
      },
      "text/plain": [
       "HBox(children=(FloatProgress(value=0.0, max=2.0), HTML(value='')))"
      ]
     },
     "metadata": {},
     "output_type": "display_data"
    },
    {
     "name": "stdout",
     "output_type": "stream",
     "text": [
      "\n"
     ]
    }
   ],
   "source": [
    "test_results = dict()\n",
    "\n",
    "for i in tqdm(range(len(classifiers))):\n",
    "    classifiers[i].fit(X_train, y_train)\n",
    "    test_results[algorithms[i]] = classifiers[i].score(X_test, y_test)\n",
    "\n",
    "test_results['Keras'] = model.evaluate(X_test, y_test, verbose=0)[1]"
   ]
  },
  {
   "cell_type": "code",
   "execution_count": 28,
   "metadata": {},
   "outputs": [],
   "source": [
    "test_scores = {}\n",
    "\n",
    "for algorithm in test_results.keys():\n",
    "    test_scores[algorithm] = test_results[algorithm]\n",
    "\n",
    "test_results = {k: v for k, v in sorted(test_scores.items(), key=lambda item: item[1], reverse=True)}\n",
    "    \n",
    "test_df = pd.DataFrame({\"Algorithm\": list(cv_means.keys()), \"TestScore\": list(test_results.values())})"
   ]
  },
  {
   "cell_type": "code",
   "execution_count": 29,
   "metadata": {},
   "outputs": [
    {
     "data": {
      "text/html": [
       "<div>\n",
       "<style scoped>\n",
       "    .dataframe tbody tr th:only-of-type {\n",
       "        vertical-align: middle;\n",
       "    }\n",
       "\n",
       "    .dataframe tbody tr th {\n",
       "        vertical-align: top;\n",
       "    }\n",
       "\n",
       "    .dataframe thead th {\n",
       "        text-align: right;\n",
       "    }\n",
       "</style>\n",
       "<table border=\"1\" class=\"dataframe\">\n",
       "  <thead>\n",
       "    <tr style=\"text-align: right;\">\n",
       "      <th></th>\n",
       "      <th>Algorithm</th>\n",
       "      <th>TestScore</th>\n",
       "    </tr>\n",
       "  </thead>\n",
       "  <tbody>\n",
       "    <tr>\n",
       "      <th>0</th>\n",
       "      <td>Keras</td>\n",
       "      <td>0.846089</td>\n",
       "    </tr>\n",
       "    <tr>\n",
       "      <th>1</th>\n",
       "      <td>LogisticRegression</td>\n",
       "      <td>0.803701</td>\n",
       "    </tr>\n",
       "    <tr>\n",
       "      <th>2</th>\n",
       "      <td>LinearDiscriminantAnalysis</td>\n",
       "      <td>0.785366</td>\n",
       "    </tr>\n",
       "  </tbody>\n",
       "</table>\n",
       "</div>"
      ],
      "text/plain": [
       "                    Algorithm  TestScore\n",
       "0                       Keras   0.846089\n",
       "1          LogisticRegression   0.803701\n",
       "2  LinearDiscriminantAnalysis   0.785366"
      ]
     },
     "execution_count": 29,
     "metadata": {},
     "output_type": "execute_result"
    }
   ],
   "source": [
    "test_df"
   ]
  },
  {
   "cell_type": "code",
   "execution_count": 30,
   "metadata": {},
   "outputs": [
    {
     "data": {
      "image/png": "[encoded data removed]",
      "text/plain": [
       "<Figure size 1152x720 with 1 Axes>"
      ]
     },
     "metadata": {
      "needs_background": "light"
     },
     "output_type": "display_data"
    }
   ],
   "source": [
    "plt.figure(figsize=(16, 10))\n",
    "\n",
    "g = sns.barplot(x='Algorithm', y='TestScore', data=test_df)\n",
    "\n",
    "g.set_xlabel(\"Test Accuracy\")\n",
    "g = g.set_title(\"Test Scores\")"
   ]
  },
  {
   "cell_type": "code",
   "execution_count": null,
   "metadata": {},
   "outputs": [],
   "source": []
  }
 ],
 "metadata": {
  "kernelspec": {
   "display_name": "Python 3",
   "language": "python",
   "name": "python3"
  },
  "language_info": {
   "codemirror_mode": {
    "name": "ipython",
    "version": 3
   },
   "file_extension": ".py",
   "mimetype": "text/x-python",
   "name": "python",
   "nbconvert_exporter": "python",
   "pygments_lexer": "ipython3",
   "version": "3.7.6"
  },
  "varInspector": {
   "cols": {
    "lenName": 16,
    "lenType": 16,
    "lenVar": 40
   },
   "kernels_config": {
    "python": {
     "delete_cmd_postfix": "",
     "delete_cmd_prefix": "del ",
     "library": "var_list.py",
     "varRefreshCmd": "print(var_dic_list())"
    },
    "r": {
     "delete_cmd_postfix": ") ",
     "delete_cmd_prefix": "rm(",
     "library": "var_list.r",
     "varRefreshCmd": "cat(var_dic_list()) "
    }
   },
   "types_to_exclude": [
    "module",
    "function",
    "builtin_function_or_method",
    "instance",
    "_Feature"
   ],
   "window_display": false
  }
 },
 "nbformat": 4,
 "nbformat_minor": 4
}
